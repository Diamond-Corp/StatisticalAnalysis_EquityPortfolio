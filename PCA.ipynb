{
 "cells": [
  {
   "cell_type": "code",
   "execution_count": 1,
   "id": "f2b7a8e8",
   "metadata": {},
   "outputs": [],
   "source": [
    "import numpy as np\n",
    "import pandas as pd\n",
    "import matplotlib.pyplot as plt\n",
    "%matplotlib inline"
   ]
  },
  {
   "cell_type": "code",
   "execution_count": 2,
   "id": "48894af9",
   "metadata": {},
   "outputs": [],
   "source": [
    "# Allow Multiple Output per Cell\n",
    "# from IPython.core.interactiveshell import InteractiveShell\n",
    "# InteractiveShell.ast_node_interactivity='all'"
   ]
  },
  {
   "cell_type": "code",
   "execution_count": 3,
   "id": "8aece750",
   "metadata": {},
   "outputs": [],
   "source": [
    "ten_year_yields = pd.read_csv('/Users/diamondcorp/Downloads/USD10Y.csv', index_col=0)\n",
    "two_year_yields = pd.read_csv('/Users/diamondcorp/Downloads/USD02Y.csv',index_col=0)"
   ]
  },
  {
   "cell_type": "code",
   "execution_count": 4,
   "id": "dc2150aa",
   "metadata": {},
   "outputs": [],
   "source": [
    "for col in two_year_yields.columns:\n",
    "    two_year_yields[col] = two_year_yields[col].replace({'%':''}, regex=True)\n",
    "for col in ten_year_yields.columns:\n",
    "    ten_year_yields[col] = ten_year_yields[col].replace({'%':''}, regex=True)\n"
   ]
  },
  {
   "cell_type": "code",
   "execution_count": 5,
   "id": "e3fc7798",
   "metadata": {},
   "outputs": [
    {
     "data": {
      "text/html": [
       "<div>\n",
       "<style scoped>\n",
       "    .dataframe tbody tr th:only-of-type {\n",
       "        vertical-align: middle;\n",
       "    }\n",
       "\n",
       "    .dataframe tbody tr th {\n",
       "        vertical-align: top;\n",
       "    }\n",
       "\n",
       "    .dataframe thead th {\n",
       "        text-align: right;\n",
       "    }\n",
       "</style>\n",
       "<table border=\"1\" class=\"dataframe\">\n",
       "  <thead>\n",
       "    <tr style=\"text-align: right;\">\n",
       "      <th></th>\n",
       "      <th>Open</th>\n",
       "      <th>High</th>\n",
       "      <th>Low</th>\n",
       "      <th>Close</th>\n",
       "    </tr>\n",
       "    <tr>\n",
       "      <th>Date</th>\n",
       "      <th></th>\n",
       "      <th></th>\n",
       "      <th></th>\n",
       "      <th></th>\n",
       "    </tr>\n",
       "  </thead>\n",
       "  <tbody>\n",
       "    <tr>\n",
       "      <th>03/07/2024</th>\n",
       "      <td>4.096</td>\n",
       "      <td>4.130</td>\n",
       "      <td>4.056</td>\n",
       "      <td>4.087</td>\n",
       "    </tr>\n",
       "    <tr>\n",
       "      <th>03/06/2024</th>\n",
       "      <td>4.157</td>\n",
       "      <td>4.174</td>\n",
       "      <td>4.083</td>\n",
       "      <td>4.101</td>\n",
       "    </tr>\n",
       "    <tr>\n",
       "      <th>03/05/2024</th>\n",
       "      <td>4.219</td>\n",
       "      <td>4.226</td>\n",
       "      <td>4.115</td>\n",
       "      <td>4.155</td>\n",
       "    </tr>\n",
       "    <tr>\n",
       "      <th>03/04/2024</th>\n",
       "      <td>4.198</td>\n",
       "      <td>4.238</td>\n",
       "      <td>4.189</td>\n",
       "      <td>4.216</td>\n",
       "    </tr>\n",
       "    <tr>\n",
       "      <th>03/01/2024</th>\n",
       "      <td>4.259</td>\n",
       "      <td>4.301</td>\n",
       "      <td>4.178</td>\n",
       "      <td>4.185</td>\n",
       "    </tr>\n",
       "    <tr>\n",
       "      <th>...</th>\n",
       "      <td>...</td>\n",
       "      <td>...</td>\n",
       "      <td>...</td>\n",
       "      <td>...</td>\n",
       "    </tr>\n",
       "    <tr>\n",
       "      <th>03/13/2023</th>\n",
       "      <td>3.705</td>\n",
       "      <td>3.750</td>\n",
       "      <td>3.433</td>\n",
       "      <td>3.577</td>\n",
       "    </tr>\n",
       "    <tr>\n",
       "      <th>03/10/2023</th>\n",
       "      <td>3.911</td>\n",
       "      <td>3.911</td>\n",
       "      <td>3.682</td>\n",
       "      <td>3.705</td>\n",
       "    </tr>\n",
       "    <tr>\n",
       "      <th>03/09/2023</th>\n",
       "      <td>3.992</td>\n",
       "      <td>4.018</td>\n",
       "      <td>3.898</td>\n",
       "      <td>3.911</td>\n",
       "    </tr>\n",
       "    <tr>\n",
       "      <th>03/08/2023</th>\n",
       "      <td>3.970</td>\n",
       "      <td>4.010</td>\n",
       "      <td>3.904</td>\n",
       "      <td>3.992</td>\n",
       "    </tr>\n",
       "    <tr>\n",
       "      <th>03/07/2023</th>\n",
       "      <td>3.965</td>\n",
       "      <td>4.002</td>\n",
       "      <td>3.929</td>\n",
       "      <td>3.970</td>\n",
       "    </tr>\n",
       "  </tbody>\n",
       "</table>\n",
       "<p>256 rows × 4 columns</p>\n",
       "</div>"
      ],
      "text/plain": [
       "             Open   High    Low  Close\n",
       "Date                                  \n",
       "03/07/2024  4.096  4.130  4.056  4.087\n",
       "03/06/2024  4.157  4.174  4.083  4.101\n",
       "03/05/2024  4.219  4.226  4.115  4.155\n",
       "03/04/2024  4.198  4.238  4.189  4.216\n",
       "03/01/2024  4.259  4.301  4.178  4.185\n",
       "...           ...    ...    ...    ...\n",
       "03/13/2023  3.705  3.750  3.433  3.577\n",
       "03/10/2023  3.911  3.911  3.682  3.705\n",
       "03/09/2023  3.992  4.018  3.898  3.911\n",
       "03/08/2023  3.970  4.010  3.904  3.992\n",
       "03/07/2023  3.965  4.002  3.929  3.970\n",
       "\n",
       "[256 rows x 4 columns]"
      ]
     },
     "execution_count": 5,
     "metadata": {},
     "output_type": "execute_result"
    }
   ],
   "source": [
    "two_year_yields = two_year_yields.astype(float)\n",
    "#two_year_yields\n",
    "ten_year_yields = ten_year_yields.astype(float)\n",
    "ten_year_yields"
   ]
  },
  {
   "cell_type": "code",
   "execution_count": null,
   "id": "d853c363",
   "metadata": {},
   "outputs": [],
   "source": []
  },
  {
   "cell_type": "code",
   "execution_count": 6,
   "id": "c5472a48",
   "metadata": {},
   "outputs": [
    {
     "data": {
      "text/plain": [
       "<Axes: xlabel='Date'>"
      ]
     },
     "execution_count": 6,
     "metadata": {},
     "output_type": "execute_result"
    },
    {
     "data": {
      "image/png": "[encoded data removed]",
      "text/plain": [
       "<Figure size 640x480 with 1 Axes>"
      ]
     },
     "metadata": {},
     "output_type": "display_data"
    }
   ],
   "source": [
    "df = pd.DataFrame()\n",
    "df['2Y Close'] = two_year_yields['Close']\n",
    "df['10Y Close'] = ten_year_yields['Close']\n",
    "df.plot()"
   ]
  },
  {
   "cell_type": "code",
   "execution_count": 7,
   "id": "0043d029",
   "metadata": {},
   "outputs": [
    {
     "data": {
      "text/html": [
       "<div>\n",
       "<style scoped>\n",
       "    .dataframe tbody tr th:only-of-type {\n",
       "        vertical-align: middle;\n",
       "    }\n",
       "\n",
       "    .dataframe tbody tr th {\n",
       "        vertical-align: top;\n",
       "    }\n",
       "\n",
       "    .dataframe thead th {\n",
       "        text-align: right;\n",
       "    }\n",
       "</style>\n",
       "<table border=\"1\" class=\"dataframe\">\n",
       "  <thead>\n",
       "    <tr style=\"text-align: right;\">\n",
       "      <th></th>\n",
       "      <th>2Y Close</th>\n",
       "      <th>10Y Close</th>\n",
       "    </tr>\n",
       "    <tr>\n",
       "      <th>Date</th>\n",
       "      <th></th>\n",
       "      <th></th>\n",
       "    </tr>\n",
       "  </thead>\n",
       "  <tbody>\n",
       "    <tr>\n",
       "      <th>03/07/2024</th>\n",
       "      <td>4.522</td>\n",
       "      <td>4.087</td>\n",
       "    </tr>\n",
       "    <tr>\n",
       "      <th>03/06/2024</th>\n",
       "      <td>4.560</td>\n",
       "      <td>4.101</td>\n",
       "    </tr>\n",
       "    <tr>\n",
       "      <th>03/05/2024</th>\n",
       "      <td>4.562</td>\n",
       "      <td>4.155</td>\n",
       "    </tr>\n",
       "    <tr>\n",
       "      <th>03/04/2024</th>\n",
       "      <td>4.610</td>\n",
       "      <td>4.216</td>\n",
       "    </tr>\n",
       "    <tr>\n",
       "      <th>03/01/2024</th>\n",
       "      <td>4.542</td>\n",
       "      <td>4.185</td>\n",
       "    </tr>\n",
       "    <tr>\n",
       "      <th>...</th>\n",
       "      <td>...</td>\n",
       "      <td>...</td>\n",
       "    </tr>\n",
       "    <tr>\n",
       "      <th>03/13/2023</th>\n",
       "      <td>3.985</td>\n",
       "      <td>3.577</td>\n",
       "    </tr>\n",
       "    <tr>\n",
       "      <th>03/10/2023</th>\n",
       "      <td>4.595</td>\n",
       "      <td>3.705</td>\n",
       "    </tr>\n",
       "    <tr>\n",
       "      <th>03/09/2023</th>\n",
       "      <td>4.876</td>\n",
       "      <td>3.911</td>\n",
       "    </tr>\n",
       "    <tr>\n",
       "      <th>03/08/2023</th>\n",
       "      <td>5.070</td>\n",
       "      <td>3.992</td>\n",
       "    </tr>\n",
       "    <tr>\n",
       "      <th>03/07/2023</th>\n",
       "      <td>5.015</td>\n",
       "      <td>3.970</td>\n",
       "    </tr>\n",
       "  </tbody>\n",
       "</table>\n",
       "<p>256 rows × 2 columns</p>\n",
       "</div>"
      ],
      "text/plain": [
       "            2Y Close  10Y Close\n",
       "Date                           \n",
       "03/07/2024     4.522      4.087\n",
       "03/06/2024     4.560      4.101\n",
       "03/05/2024     4.562      4.155\n",
       "03/04/2024     4.610      4.216\n",
       "03/01/2024     4.542      4.185\n",
       "...              ...        ...\n",
       "03/13/2023     3.985      3.577\n",
       "03/10/2023     4.595      3.705\n",
       "03/09/2023     4.876      3.911\n",
       "03/08/2023     5.070      3.992\n",
       "03/07/2023     5.015      3.970\n",
       "\n",
       "[256 rows x 2 columns]"
      ]
     },
     "execution_count": 7,
     "metadata": {},
     "output_type": "execute_result"
    }
   ],
   "source": [
    "df"
   ]
  },
  {
   "cell_type": "code",
   "execution_count": 8,
   "id": "1919fe5b",
   "metadata": {},
   "outputs": [],
   "source": [
    "def abline(ax, b, m,*args, **kwargs):\n",
    "    xlim = ax.get_xlim()\n",
    "    ylim = [m * xlim[0] + b, m * xlim[1] + b]\n",
    "    ax.plot(xlim , ylim, *args, **kwargs)\n",
    "    "
   ]
  },
  {
   "cell_type": "code",
   "execution_count": 9,
   "id": "adee5f62",
   "metadata": {},
   "outputs": [
    {
     "data": {
      "text/html": [
       "<div>\n",
       "<style scoped>\n",
       "    .dataframe tbody tr th:only-of-type {\n",
       "        vertical-align: middle;\n",
       "    }\n",
       "\n",
       "    .dataframe tbody tr th {\n",
       "        vertical-align: top;\n",
       "    }\n",
       "\n",
       "    .dataframe thead th {\n",
       "        text-align: right;\n",
       "    }\n",
       "</style>\n",
       "<table border=\"1\" class=\"dataframe\">\n",
       "  <thead>\n",
       "    <tr style=\"text-align: right;\">\n",
       "      <th></th>\n",
       "      <th>2Y Close</th>\n",
       "      <th>10Y Close</th>\n",
       "    </tr>\n",
       "    <tr>\n",
       "      <th>Date</th>\n",
       "      <th></th>\n",
       "      <th></th>\n",
       "    </tr>\n",
       "  </thead>\n",
       "  <tbody>\n",
       "    <tr>\n",
       "      <th>03/07/2024</th>\n",
       "      <td>4.522</td>\n",
       "      <td>4.087</td>\n",
       "    </tr>\n",
       "    <tr>\n",
       "      <th>03/06/2024</th>\n",
       "      <td>4.560</td>\n",
       "      <td>4.101</td>\n",
       "    </tr>\n",
       "    <tr>\n",
       "      <th>03/05/2024</th>\n",
       "      <td>4.562</td>\n",
       "      <td>4.155</td>\n",
       "    </tr>\n",
       "    <tr>\n",
       "      <th>03/04/2024</th>\n",
       "      <td>4.610</td>\n",
       "      <td>4.216</td>\n",
       "    </tr>\n",
       "    <tr>\n",
       "      <th>03/01/2024</th>\n",
       "      <td>4.542</td>\n",
       "      <td>4.185</td>\n",
       "    </tr>\n",
       "    <tr>\n",
       "      <th>...</th>\n",
       "      <td>...</td>\n",
       "      <td>...</td>\n",
       "    </tr>\n",
       "    <tr>\n",
       "      <th>03/13/2023</th>\n",
       "      <td>3.985</td>\n",
       "      <td>3.577</td>\n",
       "    </tr>\n",
       "    <tr>\n",
       "      <th>03/10/2023</th>\n",
       "      <td>4.595</td>\n",
       "      <td>3.705</td>\n",
       "    </tr>\n",
       "    <tr>\n",
       "      <th>03/09/2023</th>\n",
       "      <td>4.876</td>\n",
       "      <td>3.911</td>\n",
       "    </tr>\n",
       "    <tr>\n",
       "      <th>03/08/2023</th>\n",
       "      <td>5.070</td>\n",
       "      <td>3.992</td>\n",
       "    </tr>\n",
       "    <tr>\n",
       "      <th>03/07/2023</th>\n",
       "      <td>5.015</td>\n",
       "      <td>3.970</td>\n",
       "    </tr>\n",
       "  </tbody>\n",
       "</table>\n",
       "<p>256 rows × 2 columns</p>\n",
       "</div>"
      ],
      "text/plain": [
       "            2Y Close  10Y Close\n",
       "Date                           \n",
       "03/07/2024     4.522      4.087\n",
       "03/06/2024     4.560      4.101\n",
       "03/05/2024     4.562      4.155\n",
       "03/04/2024     4.610      4.216\n",
       "03/01/2024     4.542      4.185\n",
       "...              ...        ...\n",
       "03/13/2023     3.985      3.577\n",
       "03/10/2023     4.595      3.705\n",
       "03/09/2023     4.876      3.911\n",
       "03/08/2023     5.070      3.992\n",
       "03/07/2023     5.015      3.970\n",
       "\n",
       "[256 rows x 2 columns]"
      ]
     },
     "execution_count": 9,
     "metadata": {},
     "output_type": "execute_result"
    }
   ],
   "source": [
    "df"
   ]
  },
  {
   "cell_type": "code",
   "execution_count": 10,
   "id": "ed0067d6",
   "metadata": {},
   "outputs": [
    {
     "name": "stdout",
     "output_type": "stream",
     "text": [
      "                                 OLS Regression Results                                \n",
      "=======================================================================================\n",
      "Dep. Variable:              10Y Close   R-squared (uncentered):                   0.997\n",
      "Model:                            OLS   Adj. R-squared (uncentered):              0.997\n",
      "Method:                 Least Squares   F-statistic:                          7.853e+04\n",
      "Date:                Sun, 22 Sep 2024   Prob (F-statistic):                   1.72e-319\n",
      "Time:                        08:07:24   Log-Likelihood:                          11.776\n",
      "No. Observations:                 256   AIC:                                     -21.55\n",
      "Df Residuals:                     255   BIC:                                     -18.01\n",
      "Df Model:                           1                                                  \n",
      "Covariance Type:            nonrobust                                                  \n",
      "==============================================================================\n",
      "                 coef    std err          t      P>|t|      [0.025      0.975]\n",
      "------------------------------------------------------------------------------\n",
      "2Y Close       0.8770      0.003    280.237      0.000       0.871       0.883\n",
      "==============================================================================\n",
      "Omnibus:                       16.030   Durbin-Watson:                   0.051\n",
      "Prob(Omnibus):                  0.000   Jarque-Bera (JB):                7.670\n",
      "Skew:                          -0.203   Prob(JB):                       0.0216\n",
      "Kurtosis:                       2.256   Cond. No.                         1.00\n",
      "==============================================================================\n",
      "\n",
      "Notes:\n",
      "[1] R² is computed without centering (uncentered) since the model does not contain a constant.\n",
      "[2] Standard Errors assume that the covariance matrix of the errors is correctly specified.\n"
     ]
    },
    {
     "data": {
      "text/plain": [
       "2Y Close    0.876984\n",
       "dtype: float64"
      ]
     },
     "execution_count": 10,
     "metadata": {},
     "output_type": "execute_result"
    }
   ],
   "source": [
    "X = df[['2Y Close']]\n",
    "Y = df['10Y Close']\n",
    "import statsmodels.api as sm\n",
    "\n",
    "res = sm.OLS(Y,X).fit()\n",
    "print(res.summary())\n",
    "res.params"
   ]
  },
  {
   "cell_type": "code",
   "execution_count": 11,
   "id": "57a402c4",
   "metadata": {},
   "outputs": [
    {
     "name": "stderr",
     "output_type": "stream",
     "text": [
      "/var/folders/fg/lyxtjzk51db3g5rg5jncdg3w0000gn/T/ipykernel_64934/1221672374.py:2: FutureWarning: Series.__getitem__ treating keys as positions is deprecated. In a future version, integer keys will always be treated as labels (consistent with DataFrame behavior). To access a value by position, use `ser.iloc[pos]`\n",
      "  abline(ax, 0,res.params[0],'r--' , linewidth = 3)\n"
     ]
    },
    {
     "data": {
      "image/png": "[encoded data removed]",
      "text/plain": [
       "<Figure size 640x480 with 1 Axes>"
      ]
     },
     "metadata": {},
     "output_type": "display_data"
    }
   ],
   "source": [
    "ax = df.plot.scatter('2Y Close','10Y Close')\n",
    "abline(ax, 0,res.params[0],'r--' , linewidth = 3)\n"
   ]
  },
  {
   "cell_type": "code",
   "execution_count": 12,
   "id": "0becf6b3",
   "metadata": {},
   "outputs": [],
   "source": [
    "#pip install scikit-learn"
   ]
  },
  {
   "cell_type": "code",
   "execution_count": 13,
   "id": "94036546",
   "metadata": {},
   "outputs": [],
   "source": [
    "#USing SkLearn\n",
    "from sklearn.linear_model import LinearRegression\n",
    "model = LinearRegression().fit(X,Y)"
   ]
  },
  {
   "cell_type": "code",
   "execution_count": 14,
   "id": "d46df4f5",
   "metadata": {},
   "outputs": [
    {
     "data": {
      "image/png": "[encoded data removed]",
      "text/plain": [
       "<Figure size 640x480 with 1 Axes>"
      ]
     },
     "metadata": {},
     "output_type": "display_data"
    }
   ],
   "source": [
    "ax = df.plot.scatter('2Y Close','10Y Close')\n",
    "abline(ax, 0, model.coef_, 'r--' , linewidth = 3)"
   ]
  },
  {
   "cell_type": "code",
   "execution_count": 15,
   "id": "0ec24d21",
   "metadata": {},
   "outputs": [
    {
     "data": {
      "text/plain": [
       "pandas.core.series.Series"
      ]
     },
     "execution_count": 15,
     "metadata": {},
     "output_type": "execute_result"
    }
   ],
   "source": [
    "type(df['2Y Close'])"
   ]
  },
  {
   "cell_type": "code",
   "execution_count": 16,
   "id": "002cc761",
   "metadata": {},
   "outputs": [
    {
     "data": {
      "text/plain": [
       "pandas.core.frame.DataFrame"
      ]
     },
     "execution_count": 16,
     "metadata": {},
     "output_type": "execute_result"
    }
   ],
   "source": [
    "type(df[['2Y Close']])"
   ]
  },
  {
   "cell_type": "code",
   "execution_count": 17,
   "id": "6125e5e2",
   "metadata": {},
   "outputs": [],
   "source": [
    "treasurycurve_2023 = pd.read_csv('/Users/diamondcorp/Downloads/daily-treasury-rates-2023.csv', index_col=0)"
   ]
  },
  {
   "cell_type": "code",
   "execution_count": 18,
   "id": "222cdbc4",
   "metadata": {},
   "outputs": [
    {
     "data": {
      "text/html": [
       "<div>\n",
       "<style scoped>\n",
       "    .dataframe tbody tr th:only-of-type {\n",
       "        vertical-align: middle;\n",
       "    }\n",
       "\n",
       "    .dataframe tbody tr th {\n",
       "        vertical-align: top;\n",
       "    }\n",
       "\n",
       "    .dataframe thead th {\n",
       "        text-align: right;\n",
       "    }\n",
       "</style>\n",
       "<table border=\"1\" class=\"dataframe\">\n",
       "  <thead>\n",
       "    <tr style=\"text-align: right;\">\n",
       "      <th></th>\n",
       "      <th>1 Mo</th>\n",
       "      <th>2 Mo</th>\n",
       "      <th>3 Mo</th>\n",
       "      <th>4 Mo</th>\n",
       "      <th>6 Mo</th>\n",
       "      <th>1 Yr</th>\n",
       "      <th>2 Yr</th>\n",
       "      <th>3 Yr</th>\n",
       "      <th>5 Yr</th>\n",
       "      <th>7 Yr</th>\n",
       "      <th>10 Yr</th>\n",
       "      <th>20 Yr</th>\n",
       "      <th>30 Yr</th>\n",
       "    </tr>\n",
       "    <tr>\n",
       "      <th>Date</th>\n",
       "      <th></th>\n",
       "      <th></th>\n",
       "      <th></th>\n",
       "      <th></th>\n",
       "      <th></th>\n",
       "      <th></th>\n",
       "      <th></th>\n",
       "      <th></th>\n",
       "      <th></th>\n",
       "      <th></th>\n",
       "      <th></th>\n",
       "      <th></th>\n",
       "      <th></th>\n",
       "    </tr>\n",
       "  </thead>\n",
       "  <tbody>\n",
       "    <tr>\n",
       "      <th>12/29/2023</th>\n",
       "      <td>5.60</td>\n",
       "      <td>5.59</td>\n",
       "      <td>5.40</td>\n",
       "      <td>5.41</td>\n",
       "      <td>5.26</td>\n",
       "      <td>4.79</td>\n",
       "      <td>4.23</td>\n",
       "      <td>4.01</td>\n",
       "      <td>3.84</td>\n",
       "      <td>3.88</td>\n",
       "      <td>3.88</td>\n",
       "      <td>4.20</td>\n",
       "      <td>4.03</td>\n",
       "    </tr>\n",
       "    <tr>\n",
       "      <th>12/28/2023</th>\n",
       "      <td>5.57</td>\n",
       "      <td>5.55</td>\n",
       "      <td>5.45</td>\n",
       "      <td>5.42</td>\n",
       "      <td>5.28</td>\n",
       "      <td>4.82</td>\n",
       "      <td>4.26</td>\n",
       "      <td>4.02</td>\n",
       "      <td>3.83</td>\n",
       "      <td>3.84</td>\n",
       "      <td>3.84</td>\n",
       "      <td>4.14</td>\n",
       "      <td>3.98</td>\n",
       "    </tr>\n",
       "    <tr>\n",
       "      <th>12/27/2023</th>\n",
       "      <td>5.55</td>\n",
       "      <td>5.53</td>\n",
       "      <td>5.44</td>\n",
       "      <td>5.42</td>\n",
       "      <td>5.26</td>\n",
       "      <td>4.79</td>\n",
       "      <td>4.20</td>\n",
       "      <td>3.97</td>\n",
       "      <td>3.78</td>\n",
       "      <td>3.81</td>\n",
       "      <td>3.79</td>\n",
       "      <td>4.10</td>\n",
       "      <td>3.95</td>\n",
       "    </tr>\n",
       "    <tr>\n",
       "      <th>12/26/2023</th>\n",
       "      <td>5.53</td>\n",
       "      <td>5.52</td>\n",
       "      <td>5.45</td>\n",
       "      <td>5.44</td>\n",
       "      <td>5.28</td>\n",
       "      <td>4.83</td>\n",
       "      <td>4.26</td>\n",
       "      <td>4.05</td>\n",
       "      <td>3.89</td>\n",
       "      <td>3.91</td>\n",
       "      <td>3.89</td>\n",
       "      <td>4.20</td>\n",
       "      <td>4.04</td>\n",
       "    </tr>\n",
       "    <tr>\n",
       "      <th>12/22/2023</th>\n",
       "      <td>5.54</td>\n",
       "      <td>5.52</td>\n",
       "      <td>5.44</td>\n",
       "      <td>5.45</td>\n",
       "      <td>5.31</td>\n",
       "      <td>4.82</td>\n",
       "      <td>4.31</td>\n",
       "      <td>4.04</td>\n",
       "      <td>3.87</td>\n",
       "      <td>3.92</td>\n",
       "      <td>3.90</td>\n",
       "      <td>4.21</td>\n",
       "      <td>4.05</td>\n",
       "    </tr>\n",
       "    <tr>\n",
       "      <th>...</th>\n",
       "      <td>...</td>\n",
       "      <td>...</td>\n",
       "      <td>...</td>\n",
       "      <td>...</td>\n",
       "      <td>...</td>\n",
       "      <td>...</td>\n",
       "      <td>...</td>\n",
       "      <td>...</td>\n",
       "      <td>...</td>\n",
       "      <td>...</td>\n",
       "      <td>...</td>\n",
       "      <td>...</td>\n",
       "      <td>...</td>\n",
       "    </tr>\n",
       "    <tr>\n",
       "      <th>01/09/2023</th>\n",
       "      <td>4.37</td>\n",
       "      <td>4.58</td>\n",
       "      <td>4.70</td>\n",
       "      <td>4.74</td>\n",
       "      <td>4.83</td>\n",
       "      <td>4.69</td>\n",
       "      <td>4.19</td>\n",
       "      <td>3.93</td>\n",
       "      <td>3.66</td>\n",
       "      <td>3.60</td>\n",
       "      <td>3.53</td>\n",
       "      <td>3.83</td>\n",
       "      <td>3.66</td>\n",
       "    </tr>\n",
       "    <tr>\n",
       "      <th>01/06/2023</th>\n",
       "      <td>4.32</td>\n",
       "      <td>4.55</td>\n",
       "      <td>4.67</td>\n",
       "      <td>4.74</td>\n",
       "      <td>4.79</td>\n",
       "      <td>4.71</td>\n",
       "      <td>4.24</td>\n",
       "      <td>3.96</td>\n",
       "      <td>3.69</td>\n",
       "      <td>3.63</td>\n",
       "      <td>3.55</td>\n",
       "      <td>3.84</td>\n",
       "      <td>3.67</td>\n",
       "    </tr>\n",
       "    <tr>\n",
       "      <th>01/05/2023</th>\n",
       "      <td>4.30</td>\n",
       "      <td>4.55</td>\n",
       "      <td>4.66</td>\n",
       "      <td>4.75</td>\n",
       "      <td>4.81</td>\n",
       "      <td>4.78</td>\n",
       "      <td>4.45</td>\n",
       "      <td>4.18</td>\n",
       "      <td>3.90</td>\n",
       "      <td>3.82</td>\n",
       "      <td>3.71</td>\n",
       "      <td>3.96</td>\n",
       "      <td>3.78</td>\n",
       "    </tr>\n",
       "    <tr>\n",
       "      <th>01/04/2023</th>\n",
       "      <td>4.20</td>\n",
       "      <td>4.42</td>\n",
       "      <td>4.55</td>\n",
       "      <td>4.69</td>\n",
       "      <td>4.77</td>\n",
       "      <td>4.71</td>\n",
       "      <td>4.36</td>\n",
       "      <td>4.11</td>\n",
       "      <td>3.85</td>\n",
       "      <td>3.79</td>\n",
       "      <td>3.69</td>\n",
       "      <td>3.97</td>\n",
       "      <td>3.81</td>\n",
       "    </tr>\n",
       "    <tr>\n",
       "      <th>01/03/2023</th>\n",
       "      <td>4.17</td>\n",
       "      <td>4.42</td>\n",
       "      <td>4.53</td>\n",
       "      <td>4.70</td>\n",
       "      <td>4.77</td>\n",
       "      <td>4.72</td>\n",
       "      <td>4.40</td>\n",
       "      <td>4.18</td>\n",
       "      <td>3.94</td>\n",
       "      <td>3.89</td>\n",
       "      <td>3.79</td>\n",
       "      <td>4.06</td>\n",
       "      <td>3.88</td>\n",
       "    </tr>\n",
       "  </tbody>\n",
       "</table>\n",
       "<p>250 rows × 13 columns</p>\n",
       "</div>"
      ],
      "text/plain": [
       "            1 Mo  2 Mo  3 Mo  4 Mo  6 Mo  1 Yr  2 Yr  3 Yr  5 Yr  7 Yr  10 Yr  \\\n",
       "Date                                                                            \n",
       "12/29/2023  5.60  5.59  5.40  5.41  5.26  4.79  4.23  4.01  3.84  3.88   3.88   \n",
       "12/28/2023  5.57  5.55  5.45  5.42  5.28  4.82  4.26  4.02  3.83  3.84   3.84   \n",
       "12/27/2023  5.55  5.53  5.44  5.42  5.26  4.79  4.20  3.97  3.78  3.81   3.79   \n",
       "12/26/2023  5.53  5.52  5.45  5.44  5.28  4.83  4.26  4.05  3.89  3.91   3.89   \n",
       "12/22/2023  5.54  5.52  5.44  5.45  5.31  4.82  4.31  4.04  3.87  3.92   3.90   \n",
       "...          ...   ...   ...   ...   ...   ...   ...   ...   ...   ...    ...   \n",
       "01/09/2023  4.37  4.58  4.70  4.74  4.83  4.69  4.19  3.93  3.66  3.60   3.53   \n",
       "01/06/2023  4.32  4.55  4.67  4.74  4.79  4.71  4.24  3.96  3.69  3.63   3.55   \n",
       "01/05/2023  4.30  4.55  4.66  4.75  4.81  4.78  4.45  4.18  3.90  3.82   3.71   \n",
       "01/04/2023  4.20  4.42  4.55  4.69  4.77  4.71  4.36  4.11  3.85  3.79   3.69   \n",
       "01/03/2023  4.17  4.42  4.53  4.70  4.77  4.72  4.40  4.18  3.94  3.89   3.79   \n",
       "\n",
       "            20 Yr  30 Yr  \n",
       "Date                      \n",
       "12/29/2023   4.20   4.03  \n",
       "12/28/2023   4.14   3.98  \n",
       "12/27/2023   4.10   3.95  \n",
       "12/26/2023   4.20   4.04  \n",
       "12/22/2023   4.21   4.05  \n",
       "...           ...    ...  \n",
       "01/09/2023   3.83   3.66  \n",
       "01/06/2023   3.84   3.67  \n",
       "01/05/2023   3.96   3.78  \n",
       "01/04/2023   3.97   3.81  \n",
       "01/03/2023   4.06   3.88  \n",
       "\n",
       "[250 rows x 13 columns]"
      ]
     },
     "execution_count": 18,
     "metadata": {},
     "output_type": "execute_result"
    }
   ],
   "source": [
    "treasurycurve_2023"
   ]
  },
  {
   "cell_type": "code",
   "execution_count": 19,
   "id": "3a01a8c9",
   "metadata": {},
   "outputs": [
    {
     "data": {
      "text/plain": [
       "<Axes: xlabel='Date'>"
      ]
     },
     "execution_count": 19,
     "metadata": {},
     "output_type": "execute_result"
    },
    {
     "data": {
      "image/png": "[encoded data removed]",
      "text/plain": [
       "<Figure size 640x480 with 1 Axes>"
      ]
     },
     "metadata": {},
     "output_type": "display_data"
    }
   ],
   "source": [
    "treasurydata = pd.DataFrame()\n",
    "treasurydata['2Y'] = treasurycurve_2023['2 Yr']\n",
    "treasurydata['5Y'] = treasurycurve_2023['5 Yr']\n",
    "treasurydata['7Y'] = treasurycurve_2023['7 Yr']\n",
    "treasurydata['10Y'] = treasurycurve_2023['10 Yr']\n",
    "treasurydata.plot()"
   ]
  },
  {
   "cell_type": "code",
   "execution_count": 20,
   "id": "cc154a38",
   "metadata": {},
   "outputs": [
    {
     "data": {
      "text/html": [
       "<div>\n",
       "<style scoped>\n",
       "    .dataframe tbody tr th:only-of-type {\n",
       "        vertical-align: middle;\n",
       "    }\n",
       "\n",
       "    .dataframe tbody tr th {\n",
       "        vertical-align: top;\n",
       "    }\n",
       "\n",
       "    .dataframe thead th {\n",
       "        text-align: right;\n",
       "    }\n",
       "</style>\n",
       "<table border=\"1\" class=\"dataframe\">\n",
       "  <thead>\n",
       "    <tr style=\"text-align: right;\">\n",
       "      <th></th>\n",
       "      <th>2Y</th>\n",
       "      <th>5Y</th>\n",
       "      <th>7Y</th>\n",
       "      <th>10Y</th>\n",
       "    </tr>\n",
       "    <tr>\n",
       "      <th>Date</th>\n",
       "      <th></th>\n",
       "      <th></th>\n",
       "      <th></th>\n",
       "      <th></th>\n",
       "    </tr>\n",
       "  </thead>\n",
       "  <tbody>\n",
       "    <tr>\n",
       "      <th>12/29/2023</th>\n",
       "      <td>4.23</td>\n",
       "      <td>3.84</td>\n",
       "      <td>3.88</td>\n",
       "      <td>3.88</td>\n",
       "    </tr>\n",
       "    <tr>\n",
       "      <th>12/28/2023</th>\n",
       "      <td>4.26</td>\n",
       "      <td>3.83</td>\n",
       "      <td>3.84</td>\n",
       "      <td>3.84</td>\n",
       "    </tr>\n",
       "    <tr>\n",
       "      <th>12/27/2023</th>\n",
       "      <td>4.20</td>\n",
       "      <td>3.78</td>\n",
       "      <td>3.81</td>\n",
       "      <td>3.79</td>\n",
       "    </tr>\n",
       "    <tr>\n",
       "      <th>12/26/2023</th>\n",
       "      <td>4.26</td>\n",
       "      <td>3.89</td>\n",
       "      <td>3.91</td>\n",
       "      <td>3.89</td>\n",
       "    </tr>\n",
       "    <tr>\n",
       "      <th>12/22/2023</th>\n",
       "      <td>4.31</td>\n",
       "      <td>3.87</td>\n",
       "      <td>3.92</td>\n",
       "      <td>3.90</td>\n",
       "    </tr>\n",
       "    <tr>\n",
       "      <th>...</th>\n",
       "      <td>...</td>\n",
       "      <td>...</td>\n",
       "      <td>...</td>\n",
       "      <td>...</td>\n",
       "    </tr>\n",
       "    <tr>\n",
       "      <th>01/09/2023</th>\n",
       "      <td>4.19</td>\n",
       "      <td>3.66</td>\n",
       "      <td>3.60</td>\n",
       "      <td>3.53</td>\n",
       "    </tr>\n",
       "    <tr>\n",
       "      <th>01/06/2023</th>\n",
       "      <td>4.24</td>\n",
       "      <td>3.69</td>\n",
       "      <td>3.63</td>\n",
       "      <td>3.55</td>\n",
       "    </tr>\n",
       "    <tr>\n",
       "      <th>01/05/2023</th>\n",
       "      <td>4.45</td>\n",
       "      <td>3.90</td>\n",
       "      <td>3.82</td>\n",
       "      <td>3.71</td>\n",
       "    </tr>\n",
       "    <tr>\n",
       "      <th>01/04/2023</th>\n",
       "      <td>4.36</td>\n",
       "      <td>3.85</td>\n",
       "      <td>3.79</td>\n",
       "      <td>3.69</td>\n",
       "    </tr>\n",
       "    <tr>\n",
       "      <th>01/03/2023</th>\n",
       "      <td>4.40</td>\n",
       "      <td>3.94</td>\n",
       "      <td>3.89</td>\n",
       "      <td>3.79</td>\n",
       "    </tr>\n",
       "  </tbody>\n",
       "</table>\n",
       "<p>250 rows × 4 columns</p>\n",
       "</div>"
      ],
      "text/plain": [
       "              2Y    5Y    7Y   10Y\n",
       "Date                              \n",
       "12/29/2023  4.23  3.84  3.88  3.88\n",
       "12/28/2023  4.26  3.83  3.84  3.84\n",
       "12/27/2023  4.20  3.78  3.81  3.79\n",
       "12/26/2023  4.26  3.89  3.91  3.89\n",
       "12/22/2023  4.31  3.87  3.92  3.90\n",
       "...          ...   ...   ...   ...\n",
       "01/09/2023  4.19  3.66  3.60  3.53\n",
       "01/06/2023  4.24  3.69  3.63  3.55\n",
       "01/05/2023  4.45  3.90  3.82  3.71\n",
       "01/04/2023  4.36  3.85  3.79  3.69\n",
       "01/03/2023  4.40  3.94  3.89  3.79\n",
       "\n",
       "[250 rows x 4 columns]"
      ]
     },
     "execution_count": 20,
     "metadata": {},
     "output_type": "execute_result"
    }
   ],
   "source": [
    "treasurydata"
   ]
  },
  {
   "cell_type": "code",
   "execution_count": 21,
   "id": "42e7083a",
   "metadata": {},
   "outputs": [
    {
     "data": {
      "text/html": [
       "<div>\n",
       "<style scoped>\n",
       "    .dataframe tbody tr th:only-of-type {\n",
       "        vertical-align: middle;\n",
       "    }\n",
       "\n",
       "    .dataframe tbody tr th {\n",
       "        vertical-align: top;\n",
       "    }\n",
       "\n",
       "    .dataframe thead th {\n",
       "        text-align: right;\n",
       "    }\n",
       "</style>\n",
       "<table border=\"1\" class=\"dataframe\">\n",
       "  <thead>\n",
       "    <tr style=\"text-align: right;\">\n",
       "      <th></th>\n",
       "      <th>2Y</th>\n",
       "      <th>5Y</th>\n",
       "      <th>7Y</th>\n",
       "      <th>10Y</th>\n",
       "    </tr>\n",
       "  </thead>\n",
       "  <tbody>\n",
       "    <tr>\n",
       "      <th>2Y</th>\n",
       "      <td>0.155307</td>\n",
       "      <td>0.154047</td>\n",
       "      <td>0.153571</td>\n",
       "      <td>0.146705</td>\n",
       "    </tr>\n",
       "    <tr>\n",
       "      <th>5Y</th>\n",
       "      <td>0.154047</td>\n",
       "      <td>0.168253</td>\n",
       "      <td>0.173620</td>\n",
       "      <td>0.170903</td>\n",
       "    </tr>\n",
       "    <tr>\n",
       "      <th>7Y</th>\n",
       "      <td>0.153571</td>\n",
       "      <td>0.173620</td>\n",
       "      <td>0.182075</td>\n",
       "      <td>0.181731</td>\n",
       "    </tr>\n",
       "    <tr>\n",
       "      <th>10Y</th>\n",
       "      <td>0.146705</td>\n",
       "      <td>0.170903</td>\n",
       "      <td>0.181731</td>\n",
       "      <td>0.183887</td>\n",
       "    </tr>\n",
       "  </tbody>\n",
       "</table>\n",
       "</div>"
      ],
      "text/plain": [
       "           2Y        5Y        7Y       10Y\n",
       "2Y   0.155307  0.154047  0.153571  0.146705\n",
       "5Y   0.154047  0.168253  0.173620  0.170903\n",
       "7Y   0.153571  0.173620  0.182075  0.181731\n",
       "10Y  0.146705  0.170903  0.181731  0.183887"
      ]
     },
     "execution_count": 21,
     "metadata": {},
     "output_type": "execute_result"
    }
   ],
   "source": [
    "cov_mat = pd.DataFrame.cov(treasurydata)\n",
    "cov_mat"
   ]
  },
  {
   "cell_type": "code",
   "execution_count": 22,
   "id": "dbc86dd8",
   "metadata": {},
   "outputs": [
    {
     "data": {
      "text/html": [
       "<div>\n",
       "<style scoped>\n",
       "    .dataframe tbody tr th:only-of-type {\n",
       "        vertical-align: middle;\n",
       "    }\n",
       "\n",
       "    .dataframe tbody tr th {\n",
       "        vertical-align: top;\n",
       "    }\n",
       "\n",
       "    .dataframe thead th {\n",
       "        text-align: right;\n",
       "    }\n",
       "</style>\n",
       "<table border=\"1\" class=\"dataframe\">\n",
       "  <thead>\n",
       "    <tr style=\"text-align: right;\">\n",
       "      <th></th>\n",
       "      <th>2Y</th>\n",
       "      <th>5Y</th>\n",
       "      <th>7Y</th>\n",
       "      <th>10Y</th>\n",
       "    </tr>\n",
       "  </thead>\n",
       "  <tbody>\n",
       "    <tr>\n",
       "      <th>2Y</th>\n",
       "      <td>1.000000</td>\n",
       "      <td>0.952961</td>\n",
       "      <td>0.913250</td>\n",
       "      <td>0.868111</td>\n",
       "    </tr>\n",
       "    <tr>\n",
       "      <th>5Y</th>\n",
       "      <td>0.952961</td>\n",
       "      <td>1.000000</td>\n",
       "      <td>0.991956</td>\n",
       "      <td>0.971609</td>\n",
       "    </tr>\n",
       "    <tr>\n",
       "      <th>7Y</th>\n",
       "      <td>0.913250</td>\n",
       "      <td>0.991956</td>\n",
       "      <td>1.000000</td>\n",
       "      <td>0.993181</td>\n",
       "    </tr>\n",
       "    <tr>\n",
       "      <th>10Y</th>\n",
       "      <td>0.868111</td>\n",
       "      <td>0.971609</td>\n",
       "      <td>0.993181</td>\n",
       "      <td>1.000000</td>\n",
       "    </tr>\n",
       "  </tbody>\n",
       "</table>\n",
       "</div>"
      ],
      "text/plain": [
       "           2Y        5Y        7Y       10Y\n",
       "2Y   1.000000  0.952961  0.913250  0.868111\n",
       "5Y   0.952961  1.000000  0.991956  0.971609\n",
       "7Y   0.913250  0.991956  1.000000  0.993181\n",
       "10Y  0.868111  0.971609  0.993181  1.000000"
      ]
     },
     "execution_count": 22,
     "metadata": {},
     "output_type": "execute_result"
    }
   ],
   "source": [
    "cor_mat = pd.DataFrame.corr(treasurydata)\n",
    "cor_mat"
   ]
  },
  {
   "cell_type": "code",
   "execution_count": 23,
   "id": "bddb7d55",
   "metadata": {},
   "outputs": [
    {
     "data": {
      "text/plain": [
       "array([0.46256783, 0.56035157])"
      ]
     },
     "execution_count": 23,
     "metadata": {},
     "output_type": "execute_result"
    }
   ],
   "source": [
    "X = treasurydata.drop(columns=['7Y','5Y'])\n",
    "X\n",
    "Y = treasurydata['5Y']\n",
    "newmodel = LinearRegression().fit(X,Y)\n",
    "newmodel.coef_"
   ]
  },
  {
   "cell_type": "code",
   "execution_count": 24,
   "id": "ac6e8748",
   "metadata": {},
   "outputs": [],
   "source": [
    "treasurydata['2s5s10s']= treasurydata['5Y'] - newmodel.coef_[0]*treasurydata['2Y'] - newmodel.coef_[1]*treasurydata['10Y']"
   ]
  },
  {
   "cell_type": "code",
   "execution_count": 25,
   "id": "965f24d1",
   "metadata": {},
   "outputs": [
    {
     "data": {
      "text/plain": [
       "<Axes: xlabel='Date'>"
      ]
     },
     "execution_count": 25,
     "metadata": {},
     "output_type": "execute_result"
    },
    {
     "data": {
      "image/png": "[encoded data removed]",
      "text/plain": [
       "<Figure size 640x480 with 1 Axes>"
      ]
     },
     "metadata": {},
     "output_type": "display_data"
    }
   ],
   "source": [
    "treasurydata = treasurydata[::-1]\n",
    "treasurydata\n",
    "treasurydata['2s5s10s'].plot()"
   ]
  },
  {
   "cell_type": "code",
   "execution_count": 26,
   "id": "ff072760",
   "metadata": {},
   "outputs": [],
   "source": [
    "import numpy as np\n",
    "ravg = np.convolve(treasurydata['2s5s10s'], np.ones(10)/10, mode='valid')\n"
   ]
  },
  {
   "cell_type": "code",
   "execution_count": 27,
   "id": "0ef6a1c9",
   "metadata": {},
   "outputs": [
    {
     "name": "stderr",
     "output_type": "stream",
     "text": [
      "/var/folders/fg/lyxtjzk51db3g5rg5jncdg3w0000gn/T/ipykernel_64934/4138077311.py:2: FutureWarning: Series.__getitem__ treating keys as positions is deprecated. In a future version, integer keys will always be treated as labels (consistent with DataFrame behavior). To access a value by position, use `ser.iloc[pos]`\n",
      "  treasurydata['2s5s10s'][0]\n"
     ]
    },
    {
     "data": {
      "text/plain": [
       "-0.21903090796880953"
      ]
     },
     "execution_count": 27,
     "metadata": {},
     "output_type": "execute_result"
    }
   ],
   "source": [
    "len(ravg)\n",
    "treasurydata['2s5s10s'][0]"
   ]
  },
  {
   "cell_type": "code",
   "execution_count": 28,
   "id": "61412cfe",
   "metadata": {},
   "outputs": [
    {
     "name": "stderr",
     "output_type": "stream",
     "text": [
      "/var/folders/fg/lyxtjzk51db3g5rg5jncdg3w0000gn/T/ipykernel_64934/3224569060.py:1: FutureWarning: Series.__getitem__ treating keys as positions is deprecated. In a future version, integer keys will always be treated as labels (consistent with DataFrame behavior). To access a value by position, use `ser.iloc[pos]`\n",
      "  ravg = np.insert(ravg,0,treasurydata['2s5s10s'][8])\n",
      "/var/folders/fg/lyxtjzk51db3g5rg5jncdg3w0000gn/T/ipykernel_64934/3224569060.py:2: FutureWarning: Series.__getitem__ treating keys as positions is deprecated. In a future version, integer keys will always be treated as labels (consistent with DataFrame behavior). To access a value by position, use `ser.iloc[pos]`\n",
      "  ravg = np.insert(ravg,0,treasurydata['2s5s10s'][7])\n",
      "/var/folders/fg/lyxtjzk51db3g5rg5jncdg3w0000gn/T/ipykernel_64934/3224569060.py:3: FutureWarning: Series.__getitem__ treating keys as positions is deprecated. In a future version, integer keys will always be treated as labels (consistent with DataFrame behavior). To access a value by position, use `ser.iloc[pos]`\n",
      "  ravg = np.insert(ravg,0,treasurydata['2s5s10s'][6])\n",
      "/var/folders/fg/lyxtjzk51db3g5rg5jncdg3w0000gn/T/ipykernel_64934/3224569060.py:4: FutureWarning: Series.__getitem__ treating keys as positions is deprecated. In a future version, integer keys will always be treated as labels (consistent with DataFrame behavior). To access a value by position, use `ser.iloc[pos]`\n",
      "  ravg = np.insert(ravg,0,treasurydata['2s5s10s'][5])\n",
      "/var/folders/fg/lyxtjzk51db3g5rg5jncdg3w0000gn/T/ipykernel_64934/3224569060.py:5: FutureWarning: Series.__getitem__ treating keys as positions is deprecated. In a future version, integer keys will always be treated as labels (consistent with DataFrame behavior). To access a value by position, use `ser.iloc[pos]`\n",
      "  ravg = np.insert(ravg,0,treasurydata['2s5s10s'][4])\n",
      "/var/folders/fg/lyxtjzk51db3g5rg5jncdg3w0000gn/T/ipykernel_64934/3224569060.py:6: FutureWarning: Series.__getitem__ treating keys as positions is deprecated. In a future version, integer keys will always be treated as labels (consistent with DataFrame behavior). To access a value by position, use `ser.iloc[pos]`\n",
      "  ravg = np.insert(ravg,0,treasurydata['2s5s10s'][3])\n",
      "/var/folders/fg/lyxtjzk51db3g5rg5jncdg3w0000gn/T/ipykernel_64934/3224569060.py:7: FutureWarning: Series.__getitem__ treating keys as positions is deprecated. In a future version, integer keys will always be treated as labels (consistent with DataFrame behavior). To access a value by position, use `ser.iloc[pos]`\n",
      "  ravg = np.insert(ravg,0,treasurydata['2s5s10s'][2])\n",
      "/var/folders/fg/lyxtjzk51db3g5rg5jncdg3w0000gn/T/ipykernel_64934/3224569060.py:8: FutureWarning: Series.__getitem__ treating keys as positions is deprecated. In a future version, integer keys will always be treated as labels (consistent with DataFrame behavior). To access a value by position, use `ser.iloc[pos]`\n",
      "  ravg = np.insert(ravg,0,treasurydata['2s5s10s'][1])\n",
      "/var/folders/fg/lyxtjzk51db3g5rg5jncdg3w0000gn/T/ipykernel_64934/3224569060.py:9: FutureWarning: Series.__getitem__ treating keys as positions is deprecated. In a future version, integer keys will always be treated as labels (consistent with DataFrame behavior). To access a value by position, use `ser.iloc[pos]`\n",
      "  ravg = np.insert(ravg,0,treasurydata['2s5s10s'][0])\n"
     ]
    },
    {
     "data": {
      "text/plain": [
       "250"
      ]
     },
     "execution_count": 28,
     "metadata": {},
     "output_type": "execute_result"
    }
   ],
   "source": [
    "ravg = np.insert(ravg,0,treasurydata['2s5s10s'][8])\n",
    "ravg = np.insert(ravg,0,treasurydata['2s5s10s'][7])\n",
    "ravg = np.insert(ravg,0,treasurydata['2s5s10s'][6])\n",
    "ravg = np.insert(ravg,0,treasurydata['2s5s10s'][5])\n",
    "ravg = np.insert(ravg,0,treasurydata['2s5s10s'][4])\n",
    "ravg = np.insert(ravg,0,treasurydata['2s5s10s'][3])\n",
    "ravg = np.insert(ravg,0,treasurydata['2s5s10s'][2])\n",
    "ravg = np.insert(ravg,0,treasurydata['2s5s10s'][1])\n",
    "ravg = np.insert(ravg,0,treasurydata['2s5s10s'][0])\n",
    "len(ravg)"
   ]
  },
  {
   "cell_type": "code",
   "execution_count": 29,
   "id": "fddad7ad",
   "metadata": {},
   "outputs": [
    {
     "name": "stderr",
     "output_type": "stream",
     "text": [
      "/var/folders/fg/lyxtjzk51db3g5rg5jncdg3w0000gn/T/ipykernel_64934/2623382818.py:1: SettingWithCopyWarning: \n",
      "A value is trying to be set on a copy of a slice from a DataFrame.\n",
      "Try using .loc[row_indexer,col_indexer] = value instead\n",
      "\n",
      "See the caveats in the documentation: https://pandas.pydata.org/pandas-docs/stable/user_guide/indexing.html#returning-a-view-versus-a-copy\n",
      "  treasurydata['ravg'] = ravg.tolist()\n"
     ]
    }
   ],
   "source": [
    "treasurydata['ravg'] = ravg.tolist()"
   ]
  },
  {
   "cell_type": "code",
   "execution_count": 30,
   "id": "888d93cf",
   "metadata": {},
   "outputs": [
    {
     "data": {
      "text/plain": [
       "<Axes: xlabel='Date'>"
      ]
     },
     "execution_count": 30,
     "metadata": {},
     "output_type": "execute_result"
    },
    {
     "data": {
      "image/png": "[encoded data removed]",
      "text/plain": [
       "<Figure size 640x480 with 1 Axes>"
      ]
     },
     "metadata": {},
     "output_type": "display_data"
    }
   ],
   "source": [
    "treasurydata['2s5s10s'].plot()\n",
    "treasurydata['ravg'].plot()"
   ]
  },
  {
   "cell_type": "code",
   "execution_count": 31,
   "id": "077cfb41",
   "metadata": {},
   "outputs": [
    {
     "data": {
      "text/plain": [
       "array([-0.21903091, -0.23449304, -0.23733117, -0.26053568, -0.25620026,\n",
       "       -0.26415677, -0.26642945, -0.29778535, -0.30766323, -0.26552004,\n",
       "       -0.27725797, -0.28495809, -0.2917304 , -0.29666164, -0.29750121,\n",
       "       -0.30108255, -0.30489309, -0.30417423, -0.30092404, -0.2987514 ,\n",
       "       -0.2962598 , -0.29582015, -0.295023  , -0.29182592, -0.29278318,\n",
       "       -0.29003646, -0.2854624 , -0.28112973, -0.27814504, -0.27319398,\n",
       "       -0.26524484, -0.2585371 , -0.25266433, -0.24623465, -0.24159257,\n",
       "       -0.23831529, -0.23588217, -0.23492039, -0.23454189, -0.2344048 ,\n",
       "       -0.23402362, -0.23128912, -0.22966921, -0.23105465, -0.23089655,\n",
       "       -0.23179994, -0.23246493, -0.22603933, -0.22213285, -0.21770876,\n",
       "       -0.21387789, -0.21480788, -0.21236087, -0.21067438, -0.21223691,\n",
       "       -0.21168484, -0.20989789, -0.21361408, -0.21524469, -0.21754532,\n",
       "       -0.2211347 , -0.22174206, -0.22581349, -0.23110031, -0.23115033,\n",
       "       -0.23144293, -0.2337172 , -0.23676839, -0.23950674, -0.24552773,\n",
       "       -0.24844827, -0.25161481, -0.25385471, -0.25293267, -0.25555877,\n",
       "       -0.25780938, -0.26014706, -0.26386174, -0.26531704, -0.2641249 ,\n",
       "       -0.26469596, -0.26736288, -0.26995225, -0.27493084, -0.28041323,\n",
       "       -0.28684711, -0.29299834, -0.29844753, -0.30467062, -0.31367062,\n",
       "       -0.32149947, -0.32584477, -0.33186309, -0.33562971, -0.33591545,\n",
       "       -0.33427112, -0.3304927 , -0.3271142 , -0.32320437, -0.3209802 ,\n",
       "       -0.31985231, -0.31780806, -0.31519543, -0.31452625, -0.31448158,\n",
       "       -0.31374975, -0.31551562, -0.31657141, -0.31849161, -0.31620553,\n",
       "       -0.31388583, -0.31342594, -0.31154514, -0.30591912, -0.30449746,\n",
       "       -0.30323163, -0.30220988, -0.30119423, -0.30146851, -0.29881765,\n",
       "       -0.295912  , -0.2939422 , -0.2925079 , -0.29164198, -0.28624934,\n",
       "       -0.28239413, -0.27718828, -0.26801949, -0.25845228, -0.25405772,\n",
       "       -0.25182627, -0.2509443 , -0.25219525, -0.25506116, -0.26004778,\n",
       "       -0.26643431, -0.27297593, -0.28198011, -0.29010156, -0.29184601,\n",
       "       -0.2949755 , -0.29760117, -0.29541213, -0.29471009, -0.29415166,\n",
       "       -0.29248667, -0.29145422, -0.29369221, -0.29760932, -0.30518456,\n",
       "       -0.31126019, -0.3147174 , -0.31803711, -0.31716927, -0.31519755,\n",
       "       -0.31216318, -0.30953332, -0.3049871 , -0.30023044, -0.29395315,\n",
       "       -0.2858363 , -0.27988407, -0.27713007, -0.27564919, -0.27513467,\n",
       "       -0.27777867, -0.28057507, -0.28364458, -0.28584893, -0.28953876,\n",
       "       -0.29183479, -0.29385503, -0.29553609, -0.29900209, -0.29992455,\n",
       "       -0.29837223, -0.29752388, -0.29683597, -0.29600712, -0.29408658,\n",
       "       -0.29397659, -0.29163054, -0.28926768, -0.28738764, -0.28541324,\n",
       "       -0.28406185, -0.28272267, -0.28275437, -0.28072536, -0.2796188 ,\n",
       "       -0.27767419, -0.27939916, -0.27952598, -0.27967646, -0.28148433,\n",
       "       -0.28267722, -0.28191863, -0.27941825, -0.27650115, -0.27195494,\n",
       "       -0.26712684, -0.26274449, -0.2598396 , -0.25214098, -0.2470371 ,\n",
       "       -0.24415246, -0.242607  , -0.24135757, -0.24260851, -0.24866196,\n",
       "       -0.25388998, -0.2596157 , -0.2644182 , -0.27432117, -0.27960648,\n",
       "       -0.28062061, -0.28104536, -0.280574  , -0.2834292 , -0.28266793,\n",
       "       -0.28540167, -0.28442994, -0.28457088, -0.28473207, -0.28595933,\n",
       "       -0.28846581, -0.29388672, -0.30122206, -0.304295  , -0.30846572,\n",
       "       -0.3120883 , -0.31402105, -0.31577044, -0.31649348, -0.31946403,\n",
       "       -0.32130167, -0.31932267, -0.31747774, -0.31826344, -0.31739517,\n",
       "       -0.31747346, -0.31826794, -0.31685806, -0.31626216, -0.31468917,\n",
       "       -0.31469486, -0.31082735, -0.30833684, -0.30487845, -0.3021611 ])"
      ]
     },
     "execution_count": 31,
     "metadata": {},
     "output_type": "execute_result"
    }
   ],
   "source": [
    "ravg"
   ]
  },
  {
   "cell_type": "code",
   "execution_count": 32,
   "id": "86f04b1f",
   "metadata": {},
   "outputs": [],
   "source": [
    "# PCA Implementation\n",
    "#----------------------------------\n",
    "\n",
    "from sklearn.preprocessing import StandardScaler\n",
    "from sklearn.pipeline import Pipeline\n",
    "from sklearn.decomposition import PCA\n",
    "sc = StandardScaler()\n",
    "\n",
    "pca = PCA(n_components=3)\n"
   ]
  },
  {
   "cell_type": "code",
   "execution_count": 33,
   "id": "8473ca23",
   "metadata": {},
   "outputs": [],
   "source": [
    "pca_data = treasurydata.drop(columns=['2s5s10s','ravg'])\n",
    "pca_data\n",
    "pca_data_scaled = sc.fit_transform(pca_data)"
   ]
  },
  {
   "cell_type": "code",
   "execution_count": 34,
   "id": "8e3b5b7e",
   "metadata": {},
   "outputs": [
    {
     "data": {
      "text/plain": [
       "array([[ 0.48506011,  0.5091384 ,  0.50692211,  0.49852256],\n",
       "       [ 0.79860278,  0.03548628, -0.27393557, -0.53472762],\n",
       "       [-0.35303469,  0.71458847,  0.18535414, -0.5747814 ]])"
      ]
     },
     "execution_count": 34,
     "metadata": {},
     "output_type": "execute_result"
    }
   ],
   "source": [
    "scores = pca.fit_transform(pca_data_scaled)\n",
    "eigenvectors = pca.components_\n",
    "eigenvectors\n",
    "#pca.mean_"
   ]
  },
  {
   "cell_type": "code",
   "execution_count": 35,
   "id": "95b65631",
   "metadata": {},
   "outputs": [
    {
     "data": {
      "text/plain": [
       "array([0.96172045, 0.03695364, 0.00124566])"
      ]
     },
     "execution_count": 35,
     "metadata": {},
     "output_type": "execute_result"
    }
   ],
   "source": [
    "eigenvalues = pca.explained_variance_ratio_\n",
    "eigenvalues"
   ]
  },
  {
   "cell_type": "code",
   "execution_count": 36,
   "id": "3ca8128f",
   "metadata": {},
   "outputs": [
    {
     "data": {
      "text/plain": [
       "Text(0.5, 1.0, 'Scaled Eigenvalues of a PCA on the US yield curve')"
      ]
     },
     "execution_count": 36,
     "metadata": {},
     "output_type": "execute_result"
    },
    {
     "data": {
      "image/png": "[encoded data removed]",
      "text/plain": [
       "<Figure size 640x480 with 1 Axes>"
      ]
     },
     "metadata": {},
     "output_type": "display_data"
    }
   ],
   "source": [
    "axis = [1,2,3]\n",
    "axis\n",
    "plt.bar(np.arange(3), eigenvalues, 0.5, label = \"scaled eigenvalues\")\n",
    "plt.xticks(np.arange(3),['1','2','3']) \n",
    "plt.xlabel(\"Number of Eigenvalue , sorted by size\") \n",
    "plt.ylabel(\"Eigenvalue - scaled to 1\") \n",
    "plt.title(\"Scaled Eigenvalues of a PCA on the US yield curve\") "
   ]
  },
  {
   "cell_type": "code",
   "execution_count": 37,
   "id": "f118f056",
   "metadata": {},
   "outputs": [
    {
     "data": {
      "image/png": "[encoded data removed]",
      "text/plain": [
       "<Figure size 640x480 with 1 Axes>"
      ]
     },
     "metadata": {},
     "output_type": "display_data"
    }
   ],
   "source": [
    "n=4\n",
    "r = np.arange(n) \n",
    "width = 0.25\n",
    "#ev_axis = [2,5,7,10]\n",
    "plt.bar(r, eigenvectors[0],color = 'r', \n",
    "        width = width, edgecolor = 'black', \n",
    "        label='Ev1')\n",
    "plt.bar(r + width, eigenvectors[1] ,color = 'b', \n",
    "        width = width, edgecolor = 'black', \n",
    "        label='Ev2')\n",
    "plt.bar(r + 2*width, eigenvectors[2] ,color = 'g', \n",
    "        width = width, edgecolor = 'black', \n",
    "        label='Ev3')\n",
    "plt.xlabel(\"Maturity\") \n",
    "plt.ylabel(\"Sensitivity\") \n",
    "plt.title(\"First three Eigenvectors of a PCA on the US yield curve\") \n",
    "plt.xticks(r + width/2,['2Y','5Y','7Y','10Y']) \n",
    "plt.legend() \n",
    "  \n",
    "plt.show() "
   ]
  },
  {
   "cell_type": "code",
   "execution_count": 38,
   "id": "4455f24f",
   "metadata": {},
   "outputs": [
    {
     "data": {
      "text/html": [
       "<div>\n",
       "<style scoped>\n",
       "    .dataframe tbody tr th:only-of-type {\n",
       "        vertical-align: middle;\n",
       "    }\n",
       "\n",
       "    .dataframe tbody tr th {\n",
       "        vertical-align: top;\n",
       "    }\n",
       "\n",
       "    .dataframe thead th {\n",
       "        text-align: right;\n",
       "    }\n",
       "</style>\n",
       "<table border=\"1\" class=\"dataframe\">\n",
       "  <thead>\n",
       "    <tr style=\"text-align: right;\">\n",
       "      <th></th>\n",
       "      <th>2Y</th>\n",
       "      <th>5Y</th>\n",
       "      <th>7Y</th>\n",
       "      <th>10Y</th>\n",
       "    </tr>\n",
       "    <tr>\n",
       "      <th>Date</th>\n",
       "      <th></th>\n",
       "      <th></th>\n",
       "      <th></th>\n",
       "      <th></th>\n",
       "    </tr>\n",
       "  </thead>\n",
       "  <tbody>\n",
       "    <tr>\n",
       "      <th>01/03/2023</th>\n",
       "      <td>4.40</td>\n",
       "      <td>3.94</td>\n",
       "      <td>3.89</td>\n",
       "      <td>3.79</td>\n",
       "    </tr>\n",
       "    <tr>\n",
       "      <th>01/04/2023</th>\n",
       "      <td>4.36</td>\n",
       "      <td>3.85</td>\n",
       "      <td>3.79</td>\n",
       "      <td>3.69</td>\n",
       "    </tr>\n",
       "    <tr>\n",
       "      <th>01/05/2023</th>\n",
       "      <td>4.45</td>\n",
       "      <td>3.90</td>\n",
       "      <td>3.82</td>\n",
       "      <td>3.71</td>\n",
       "    </tr>\n",
       "    <tr>\n",
       "      <th>01/06/2023</th>\n",
       "      <td>4.24</td>\n",
       "      <td>3.69</td>\n",
       "      <td>3.63</td>\n",
       "      <td>3.55</td>\n",
       "    </tr>\n",
       "    <tr>\n",
       "      <th>01/09/2023</th>\n",
       "      <td>4.19</td>\n",
       "      <td>3.66</td>\n",
       "      <td>3.60</td>\n",
       "      <td>3.53</td>\n",
       "    </tr>\n",
       "    <tr>\n",
       "      <th>...</th>\n",
       "      <td>...</td>\n",
       "      <td>...</td>\n",
       "      <td>...</td>\n",
       "      <td>...</td>\n",
       "    </tr>\n",
       "    <tr>\n",
       "      <th>12/22/2023</th>\n",
       "      <td>4.31</td>\n",
       "      <td>3.87</td>\n",
       "      <td>3.92</td>\n",
       "      <td>3.90</td>\n",
       "    </tr>\n",
       "    <tr>\n",
       "      <th>12/26/2023</th>\n",
       "      <td>4.26</td>\n",
       "      <td>3.89</td>\n",
       "      <td>3.91</td>\n",
       "      <td>3.89</td>\n",
       "    </tr>\n",
       "    <tr>\n",
       "      <th>12/27/2023</th>\n",
       "      <td>4.20</td>\n",
       "      <td>3.78</td>\n",
       "      <td>3.81</td>\n",
       "      <td>3.79</td>\n",
       "    </tr>\n",
       "    <tr>\n",
       "      <th>12/28/2023</th>\n",
       "      <td>4.26</td>\n",
       "      <td>3.83</td>\n",
       "      <td>3.84</td>\n",
       "      <td>3.84</td>\n",
       "    </tr>\n",
       "    <tr>\n",
       "      <th>12/29/2023</th>\n",
       "      <td>4.23</td>\n",
       "      <td>3.84</td>\n",
       "      <td>3.88</td>\n",
       "      <td>3.88</td>\n",
       "    </tr>\n",
       "  </tbody>\n",
       "</table>\n",
       "<p>250 rows × 4 columns</p>\n",
       "</div>"
      ],
      "text/plain": [
       "              2Y    5Y    7Y   10Y\n",
       "Date                              \n",
       "01/03/2023  4.40  3.94  3.89  3.79\n",
       "01/04/2023  4.36  3.85  3.79  3.69\n",
       "01/05/2023  4.45  3.90  3.82  3.71\n",
       "01/06/2023  4.24  3.69  3.63  3.55\n",
       "01/09/2023  4.19  3.66  3.60  3.53\n",
       "...          ...   ...   ...   ...\n",
       "12/22/2023  4.31  3.87  3.92  3.90\n",
       "12/26/2023  4.26  3.89  3.91  3.89\n",
       "12/27/2023  4.20  3.78  3.81  3.79\n",
       "12/28/2023  4.26  3.83  3.84  3.84\n",
       "12/29/2023  4.23  3.84  3.88  3.88\n",
       "\n",
       "[250 rows x 4 columns]"
      ]
     },
     "execution_count": 38,
     "metadata": {},
     "output_type": "execute_result"
    }
   ],
   "source": [
    "pca_data"
   ]
  },
  {
   "cell_type": "code",
   "execution_count": 39,
   "id": "e273c7e6",
   "metadata": {},
   "outputs": [],
   "source": [
    "scores_df = pd.DataFrame(scores,index= treasurydata.index)\n",
    "scores_df.columns = ['Factor1','Factor2','Factor3']"
   ]
  },
  {
   "cell_type": "code",
   "execution_count": 40,
   "id": "6dfa75be",
   "metadata": {},
   "outputs": [
    {
     "data": {
      "text/plain": [
       "<Axes: xlabel='Date'>"
      ]
     },
     "execution_count": 40,
     "metadata": {},
     "output_type": "execute_result"
    },
    {
     "data": {
      "image/png": "[encoded data removed]",
      "text/plain": [
       "<Figure size 640x480 with 1 Axes>"
      ]
     },
     "metadata": {},
     "output_type": "display_data"
    }
   ],
   "source": [
    "scores_df.plot()"
   ]
  },
  {
   "cell_type": "code",
   "execution_count": 41,
   "id": "efb661ad",
   "metadata": {},
   "outputs": [
    {
     "data": {
      "text/html": [
       "<div>\n",
       "<style scoped>\n",
       "    .dataframe tbody tr th:only-of-type {\n",
       "        vertical-align: middle;\n",
       "    }\n",
       "\n",
       "    .dataframe tbody tr th {\n",
       "        vertical-align: top;\n",
       "    }\n",
       "\n",
       "    .dataframe thead th {\n",
       "        text-align: right;\n",
       "    }\n",
       "</style>\n",
       "<table border=\"1\" class=\"dataframe\">\n",
       "  <thead>\n",
       "    <tr style=\"text-align: right;\">\n",
       "      <th></th>\n",
       "      <th>2Y</th>\n",
       "      <th>5Y</th>\n",
       "      <th>7Y</th>\n",
       "      <th>10Y</th>\n",
       "    </tr>\n",
       "    <tr>\n",
       "      <th>Date</th>\n",
       "      <th></th>\n",
       "      <th></th>\n",
       "      <th></th>\n",
       "      <th></th>\n",
       "    </tr>\n",
       "  </thead>\n",
       "  <tbody>\n",
       "    <tr>\n",
       "      <th>01/03/2023</th>\n",
       "      <td>-0.465191</td>\n",
       "      <td>-0.288544</td>\n",
       "      <td>-0.318142</td>\n",
       "      <td>-0.394895</td>\n",
       "    </tr>\n",
       "    <tr>\n",
       "      <th>01/04/2023</th>\n",
       "      <td>-0.566894</td>\n",
       "      <td>-0.508397</td>\n",
       "      <td>-0.552967</td>\n",
       "      <td>-0.628561</td>\n",
       "    </tr>\n",
       "    <tr>\n",
       "      <th>01/05/2023</th>\n",
       "      <td>-0.338062</td>\n",
       "      <td>-0.386256</td>\n",
       "      <td>-0.482520</td>\n",
       "      <td>-0.581827</td>\n",
       "    </tr>\n",
       "    <tr>\n",
       "      <th>01/06/2023</th>\n",
       "      <td>-0.872004</td>\n",
       "      <td>-0.899245</td>\n",
       "      <td>-0.928689</td>\n",
       "      <td>-0.955693</td>\n",
       "    </tr>\n",
       "    <tr>\n",
       "      <th>01/09/2023</th>\n",
       "      <td>-0.999133</td>\n",
       "      <td>-0.972530</td>\n",
       "      <td>-0.999136</td>\n",
       "      <td>-1.002426</td>\n",
       "    </tr>\n",
       "    <tr>\n",
       "      <th>...</th>\n",
       "      <td>...</td>\n",
       "      <td>...</td>\n",
       "      <td>...</td>\n",
       "      <td>...</td>\n",
       "    </tr>\n",
       "    <tr>\n",
       "      <th>12/22/2023</th>\n",
       "      <td>-0.694023</td>\n",
       "      <td>-0.459540</td>\n",
       "      <td>-0.247694</td>\n",
       "      <td>-0.137863</td>\n",
       "    </tr>\n",
       "    <tr>\n",
       "      <th>12/26/2023</th>\n",
       "      <td>-0.821152</td>\n",
       "      <td>-0.410684</td>\n",
       "      <td>-0.271177</td>\n",
       "      <td>-0.161229</td>\n",
       "    </tr>\n",
       "    <tr>\n",
       "      <th>12/27/2023</th>\n",
       "      <td>-0.973707</td>\n",
       "      <td>-0.679393</td>\n",
       "      <td>-0.506002</td>\n",
       "      <td>-0.394895</td>\n",
       "    </tr>\n",
       "    <tr>\n",
       "      <th>12/28/2023</th>\n",
       "      <td>-0.821152</td>\n",
       "      <td>-0.557253</td>\n",
       "      <td>-0.435555</td>\n",
       "      <td>-0.278062</td>\n",
       "    </tr>\n",
       "    <tr>\n",
       "      <th>12/29/2023</th>\n",
       "      <td>-0.897430</td>\n",
       "      <td>-0.532825</td>\n",
       "      <td>-0.341624</td>\n",
       "      <td>-0.184596</td>\n",
       "    </tr>\n",
       "  </tbody>\n",
       "</table>\n",
       "<p>250 rows × 4 columns</p>\n",
       "</div>"
      ],
      "text/plain": [
       "                  2Y        5Y        7Y       10Y\n",
       "Date                                              \n",
       "01/03/2023 -0.465191 -0.288544 -0.318142 -0.394895\n",
       "01/04/2023 -0.566894 -0.508397 -0.552967 -0.628561\n",
       "01/05/2023 -0.338062 -0.386256 -0.482520 -0.581827\n",
       "01/06/2023 -0.872004 -0.899245 -0.928689 -0.955693\n",
       "01/09/2023 -0.999133 -0.972530 -0.999136 -1.002426\n",
       "...              ...       ...       ...       ...\n",
       "12/22/2023 -0.694023 -0.459540 -0.247694 -0.137863\n",
       "12/26/2023 -0.821152 -0.410684 -0.271177 -0.161229\n",
       "12/27/2023 -0.973707 -0.679393 -0.506002 -0.394895\n",
       "12/28/2023 -0.821152 -0.557253 -0.435555 -0.278062\n",
       "12/29/2023 -0.897430 -0.532825 -0.341624 -0.184596\n",
       "\n",
       "[250 rows x 4 columns]"
      ]
     },
     "execution_count": 41,
     "metadata": {},
     "output_type": "execute_result"
    }
   ],
   "source": [
    "pca_data_scaled_df = pd.DataFrame(pca_data_scaled, index=treasurydata.index, columns=pca_data.columns)\n",
    "pca_data_scaled_df"
   ]
  },
  {
   "cell_type": "code",
   "execution_count": 42,
   "id": "d6d3d637",
   "metadata": {},
   "outputs": [],
   "source": [
    "scores_df = scores_df.join(pca_data_scaled_df)"
   ]
  },
  {
   "cell_type": "code",
   "execution_count": 43,
   "id": "adf05f65",
   "metadata": {},
   "outputs": [
    {
     "data": {
      "text/html": [
       "<div>\n",
       "<style scoped>\n",
       "    .dataframe tbody tr th:only-of-type {\n",
       "        vertical-align: middle;\n",
       "    }\n",
       "\n",
       "    .dataframe tbody tr th {\n",
       "        vertical-align: top;\n",
       "    }\n",
       "\n",
       "    .dataframe thead th {\n",
       "        text-align: right;\n",
       "    }\n",
       "</style>\n",
       "<table border=\"1\" class=\"dataframe\">\n",
       "  <thead>\n",
       "    <tr style=\"text-align: right;\">\n",
       "      <th></th>\n",
       "      <th>Factor1</th>\n",
       "      <th>Factor2</th>\n",
       "      <th>Factor3</th>\n",
       "      <th>2Y</th>\n",
       "      <th>5Y</th>\n",
       "      <th>7Y</th>\n",
       "      <th>10Y</th>\n",
       "    </tr>\n",
       "    <tr>\n",
       "      <th>Date</th>\n",
       "      <th></th>\n",
       "      <th></th>\n",
       "      <th></th>\n",
       "      <th></th>\n",
       "      <th></th>\n",
       "      <th></th>\n",
       "      <th></th>\n",
       "    </tr>\n",
       "  </thead>\n",
       "  <tbody>\n",
       "    <tr>\n",
       "      <th>01/03/2023</th>\n",
       "      <td>-0.730692</td>\n",
       "      <td>-0.083430</td>\n",
       "      <td>0.126048</td>\n",
       "      <td>-0.465191</td>\n",
       "      <td>-0.288544</td>\n",
       "      <td>-0.318142</td>\n",
       "      <td>-0.394895</td>\n",
       "    </tr>\n",
       "    <tr>\n",
       "      <th>01/04/2023</th>\n",
       "      <td>-1.127485</td>\n",
       "      <td>0.016822</td>\n",
       "      <td>0.095629</td>\n",
       "      <td>-0.566894</td>\n",
       "      <td>-0.508397</td>\n",
       "      <td>-0.552967</td>\n",
       "      <td>-0.628561</td>\n",
       "    </tr>\n",
       "    <tr>\n",
       "      <th>01/05/2023</th>\n",
       "      <td>-0.895292</td>\n",
       "      <td>0.159615</td>\n",
       "      <td>0.088320</td>\n",
       "      <td>-0.338062</td>\n",
       "      <td>-0.386256</td>\n",
       "      <td>-0.482520</td>\n",
       "      <td>-0.581827</td>\n",
       "    </tr>\n",
       "    <tr>\n",
       "      <th>01/06/2023</th>\n",
       "      <td>-1.828022</td>\n",
       "      <td>0.037140</td>\n",
       "      <td>0.042435</td>\n",
       "      <td>-0.872004</td>\n",
       "      <td>-0.899245</td>\n",
       "      <td>-0.928689</td>\n",
       "      <td>-0.955693</td>\n",
       "    </tr>\n",
       "    <tr>\n",
       "      <th>01/09/2023</th>\n",
       "      <td>-1.986008</td>\n",
       "      <td>-0.022698</td>\n",
       "      <td>0.048752</td>\n",
       "      <td>-0.999133</td>\n",
       "      <td>-0.972530</td>\n",
       "      <td>-0.999136</td>\n",
       "      <td>-1.002426</td>\n",
       "    </tr>\n",
       "    <tr>\n",
       "      <th>...</th>\n",
       "      <td>...</td>\n",
       "      <td>...</td>\n",
       "      <td>...</td>\n",
       "      <td>...</td>\n",
       "      <td>...</td>\n",
       "      <td>...</td>\n",
       "      <td>...</td>\n",
       "    </tr>\n",
       "    <tr>\n",
       "      <th>12/22/2023</th>\n",
       "      <td>-0.764902</td>\n",
       "      <td>-0.428985</td>\n",
       "      <td>-0.050038</td>\n",
       "      <td>-0.694023</td>\n",
       "      <td>-0.459540</td>\n",
       "      <td>-0.247694</td>\n",
       "      <td>-0.137863</td>\n",
       "    </tr>\n",
       "    <tr>\n",
       "      <th>12/26/2023</th>\n",
       "      <td>-0.825245</td>\n",
       "      <td>-0.509850</td>\n",
       "      <td>0.038833</td>\n",
       "      <td>-0.821152</td>\n",
       "      <td>-0.410684</td>\n",
       "      <td>-0.271177</td>\n",
       "      <td>-0.161229</td>\n",
       "    </tr>\n",
       "    <tr>\n",
       "      <th>12/27/2023</th>\n",
       "      <td>-1.271579</td>\n",
       "      <td>-0.451941</td>\n",
       "      <td>-0.008545</td>\n",
       "      <td>-0.973707</td>\n",
       "      <td>-0.679393</td>\n",
       "      <td>-0.506002</td>\n",
       "      <td>-0.394895</td>\n",
       "    </tr>\n",
       "    <tr>\n",
       "      <th>12/28/2023</th>\n",
       "      <td>-1.041440</td>\n",
       "      <td>-0.407548</td>\n",
       "      <td>-0.029218</td>\n",
       "      <td>-0.821152</td>\n",
       "      <td>-0.557253</td>\n",
       "      <td>-0.435555</td>\n",
       "      <td>-0.278062</td>\n",
       "    </tr>\n",
       "    <tr>\n",
       "      <th>12/29/2023</th>\n",
       "      <td>-0.971791</td>\n",
       "      <td>-0.543306</td>\n",
       "      <td>-0.021146</td>\n",
       "      <td>-0.897430</td>\n",
       "      <td>-0.532825</td>\n",
       "      <td>-0.341624</td>\n",
       "      <td>-0.184596</td>\n",
       "    </tr>\n",
       "  </tbody>\n",
       "</table>\n",
       "<p>250 rows × 7 columns</p>\n",
       "</div>"
      ],
      "text/plain": [
       "             Factor1   Factor2   Factor3        2Y        5Y        7Y  \\\n",
       "Date                                                                     \n",
       "01/03/2023 -0.730692 -0.083430  0.126048 -0.465191 -0.288544 -0.318142   \n",
       "01/04/2023 -1.127485  0.016822  0.095629 -0.566894 -0.508397 -0.552967   \n",
       "01/05/2023 -0.895292  0.159615  0.088320 -0.338062 -0.386256 -0.482520   \n",
       "01/06/2023 -1.828022  0.037140  0.042435 -0.872004 -0.899245 -0.928689   \n",
       "01/09/2023 -1.986008 -0.022698  0.048752 -0.999133 -0.972530 -0.999136   \n",
       "...              ...       ...       ...       ...       ...       ...   \n",
       "12/22/2023 -0.764902 -0.428985 -0.050038 -0.694023 -0.459540 -0.247694   \n",
       "12/26/2023 -0.825245 -0.509850  0.038833 -0.821152 -0.410684 -0.271177   \n",
       "12/27/2023 -1.271579 -0.451941 -0.008545 -0.973707 -0.679393 -0.506002   \n",
       "12/28/2023 -1.041440 -0.407548 -0.029218 -0.821152 -0.557253 -0.435555   \n",
       "12/29/2023 -0.971791 -0.543306 -0.021146 -0.897430 -0.532825 -0.341624   \n",
       "\n",
       "                 10Y  \n",
       "Date                  \n",
       "01/03/2023 -0.394895  \n",
       "01/04/2023 -0.628561  \n",
       "01/05/2023 -0.581827  \n",
       "01/06/2023 -0.955693  \n",
       "01/09/2023 -1.002426  \n",
       "...              ...  \n",
       "12/22/2023 -0.137863  \n",
       "12/26/2023 -0.161229  \n",
       "12/27/2023 -0.394895  \n",
       "12/28/2023 -0.278062  \n",
       "12/29/2023 -0.184596  \n",
       "\n",
       "[250 rows x 7 columns]"
      ]
     },
     "execution_count": 43,
     "metadata": {},
     "output_type": "execute_result"
    }
   ],
   "source": [
    "scores_df"
   ]
  },
  {
   "cell_type": "code",
   "execution_count": 44,
   "id": "9e9f5691",
   "metadata": {},
   "outputs": [],
   "source": [
    "# check formula for residuals  ??\n",
    "scores_df[\"residual2y\"] = scores_df[\"2Y\"] - scores_df[\"Factor1\"]*eigenvectors[0,0] - scores_df[\"Factor2\"]*eigenvectors[1,0]\n",
    "scores_df[\"residual5y\"] = scores_df[\"5Y\"] - scores_df[\"Factor1\"]*eigenvectors[0,1] - scores_df[\"Factor2\"]*eigenvectors[1,1]\n",
    "scores_df[\"residual7y\"] = scores_df[\"7Y\"] - scores_df[\"Factor1\"]*eigenvectors[0,2] - scores_df[\"Factor2\"]*eigenvectors[1,2]\n",
    "scores_df[\"residual10y\"] = scores_df[\"10Y\"] - scores_df[\"Factor1\"]*eigenvectors[0,3] - scores_df[\"Factor2\"]*eigenvectors[1,3]"
   ]
  },
  {
   "cell_type": "code",
   "execution_count": 45,
   "id": "80d1b534",
   "metadata": {},
   "outputs": [
    {
     "data": {
      "text/html": [
       "<div>\n",
       "<style scoped>\n",
       "    .dataframe tbody tr th:only-of-type {\n",
       "        vertical-align: middle;\n",
       "    }\n",
       "\n",
       "    .dataframe tbody tr th {\n",
       "        vertical-align: top;\n",
       "    }\n",
       "\n",
       "    .dataframe thead th {\n",
       "        text-align: right;\n",
       "    }\n",
       "</style>\n",
       "<table border=\"1\" class=\"dataframe\">\n",
       "  <thead>\n",
       "    <tr style=\"text-align: right;\">\n",
       "      <th></th>\n",
       "      <th>Factor1</th>\n",
       "      <th>Factor2</th>\n",
       "      <th>Factor3</th>\n",
       "      <th>2Y</th>\n",
       "      <th>5Y</th>\n",
       "      <th>7Y</th>\n",
       "      <th>10Y</th>\n",
       "      <th>residual2y</th>\n",
       "      <th>residual5y</th>\n",
       "      <th>residual7y</th>\n",
       "      <th>residual10y</th>\n",
       "    </tr>\n",
       "    <tr>\n",
       "      <th>Date</th>\n",
       "      <th></th>\n",
       "      <th></th>\n",
       "      <th></th>\n",
       "      <th></th>\n",
       "      <th></th>\n",
       "      <th></th>\n",
       "      <th></th>\n",
       "      <th></th>\n",
       "      <th></th>\n",
       "      <th></th>\n",
       "      <th></th>\n",
       "    </tr>\n",
       "  </thead>\n",
       "  <tbody>\n",
       "    <tr>\n",
       "      <th>01/03/2023</th>\n",
       "      <td>-0.730692</td>\n",
       "      <td>-0.083430</td>\n",
       "      <td>0.126048</td>\n",
       "      <td>-0.465191</td>\n",
       "      <td>-0.288544</td>\n",
       "      <td>-0.318142</td>\n",
       "      <td>-0.394895</td>\n",
       "      <td>-0.044134</td>\n",
       "      <td>0.086440</td>\n",
       "      <td>0.029407</td>\n",
       "      <td>-0.075241</td>\n",
       "    </tr>\n",
       "    <tr>\n",
       "      <th>01/04/2023</th>\n",
       "      <td>-1.127485</td>\n",
       "      <td>0.016822</td>\n",
       "      <td>0.095629</td>\n",
       "      <td>-0.566894</td>\n",
       "      <td>-0.508397</td>\n",
       "      <td>-0.552967</td>\n",
       "      <td>-0.628561</td>\n",
       "      <td>-0.033430</td>\n",
       "      <td>0.065052</td>\n",
       "      <td>0.023188</td>\n",
       "      <td>-0.057489</td>\n",
       "    </tr>\n",
       "    <tr>\n",
       "      <th>01/05/2023</th>\n",
       "      <td>-0.895292</td>\n",
       "      <td>0.159615</td>\n",
       "      <td>0.088320</td>\n",
       "      <td>-0.338062</td>\n",
       "      <td>-0.386256</td>\n",
       "      <td>-0.482520</td>\n",
       "      <td>-0.581827</td>\n",
       "      <td>-0.031260</td>\n",
       "      <td>0.063907</td>\n",
       "      <td>0.015048</td>\n",
       "      <td>-0.050154</td>\n",
       "    </tr>\n",
       "    <tr>\n",
       "      <th>01/06/2023</th>\n",
       "      <td>-1.828022</td>\n",
       "      <td>0.037140</td>\n",
       "      <td>0.042435</td>\n",
       "      <td>-0.872004</td>\n",
       "      <td>-0.899245</td>\n",
       "      <td>-0.928689</td>\n",
       "      <td>-0.955693</td>\n",
       "      <td>-0.014964</td>\n",
       "      <td>0.030153</td>\n",
       "      <td>0.008150</td>\n",
       "      <td>-0.024522</td>\n",
       "    </tr>\n",
       "    <tr>\n",
       "      <th>01/09/2023</th>\n",
       "      <td>-1.986008</td>\n",
       "      <td>-0.022698</td>\n",
       "      <td>0.048752</td>\n",
       "      <td>-0.999133</td>\n",
       "      <td>-0.972530</td>\n",
       "      <td>-0.999136</td>\n",
       "      <td>-1.002426</td>\n",
       "      <td>-0.017673</td>\n",
       "      <td>0.039429</td>\n",
       "      <td>0.001397</td>\n",
       "      <td>-0.024493</td>\n",
       "    </tr>\n",
       "    <tr>\n",
       "      <th>...</th>\n",
       "      <td>...</td>\n",
       "      <td>...</td>\n",
       "      <td>...</td>\n",
       "      <td>...</td>\n",
       "      <td>...</td>\n",
       "      <td>...</td>\n",
       "      <td>...</td>\n",
       "      <td>...</td>\n",
       "      <td>...</td>\n",
       "      <td>...</td>\n",
       "      <td>...</td>\n",
       "    </tr>\n",
       "    <tr>\n",
       "      <th>12/22/2023</th>\n",
       "      <td>-0.764902</td>\n",
       "      <td>-0.428985</td>\n",
       "      <td>-0.050038</td>\n",
       "      <td>-0.694023</td>\n",
       "      <td>-0.459540</td>\n",
       "      <td>-0.247694</td>\n",
       "      <td>-0.137863</td>\n",
       "      <td>0.019589</td>\n",
       "      <td>-0.054876</td>\n",
       "      <td>0.022537</td>\n",
       "      <td>0.014068</td>\n",
       "    </tr>\n",
       "    <tr>\n",
       "      <th>12/26/2023</th>\n",
       "      <td>-0.825245</td>\n",
       "      <td>-0.509850</td>\n",
       "      <td>0.038833</td>\n",
       "      <td>-0.821152</td>\n",
       "      <td>-0.410684</td>\n",
       "      <td>-0.271177</td>\n",
       "      <td>-0.161229</td>\n",
       "      <td>-0.013692</td>\n",
       "      <td>0.027572</td>\n",
       "      <td>0.007493</td>\n",
       "      <td>-0.022456</td>\n",
       "    </tr>\n",
       "    <tr>\n",
       "      <th>12/27/2023</th>\n",
       "      <td>-1.271579</td>\n",
       "      <td>-0.451941</td>\n",
       "      <td>-0.008545</td>\n",
       "      <td>-0.973707</td>\n",
       "      <td>-0.679393</td>\n",
       "      <td>-0.506002</td>\n",
       "      <td>-0.394895</td>\n",
       "      <td>0.004007</td>\n",
       "      <td>-0.015945</td>\n",
       "      <td>0.014787</td>\n",
       "      <td>-0.002649</td>\n",
       "    </tr>\n",
       "    <tr>\n",
       "      <th>12/28/2023</th>\n",
       "      <td>-1.041440</td>\n",
       "      <td>-0.407548</td>\n",
       "      <td>-0.029218</td>\n",
       "      <td>-0.821152</td>\n",
       "      <td>-0.557253</td>\n",
       "      <td>-0.435555</td>\n",
       "      <td>-0.278062</td>\n",
       "      <td>0.009477</td>\n",
       "      <td>-0.012553</td>\n",
       "      <td>-0.019268</td>\n",
       "      <td>0.023192</td>\n",
       "    </tr>\n",
       "    <tr>\n",
       "      <th>12/29/2023</th>\n",
       "      <td>-0.971791</td>\n",
       "      <td>-0.543306</td>\n",
       "      <td>-0.021146</td>\n",
       "      <td>-0.897430</td>\n",
       "      <td>-0.532825</td>\n",
       "      <td>-0.341624</td>\n",
       "      <td>-0.184596</td>\n",
       "      <td>0.007833</td>\n",
       "      <td>-0.018769</td>\n",
       "      <td>0.002167</td>\n",
       "      <td>0.009343</td>\n",
       "    </tr>\n",
       "  </tbody>\n",
       "</table>\n",
       "<p>250 rows × 11 columns</p>\n",
       "</div>"
      ],
      "text/plain": [
       "             Factor1   Factor2   Factor3        2Y        5Y        7Y  \\\n",
       "Date                                                                     \n",
       "01/03/2023 -0.730692 -0.083430  0.126048 -0.465191 -0.288544 -0.318142   \n",
       "01/04/2023 -1.127485  0.016822  0.095629 -0.566894 -0.508397 -0.552967   \n",
       "01/05/2023 -0.895292  0.159615  0.088320 -0.338062 -0.386256 -0.482520   \n",
       "01/06/2023 -1.828022  0.037140  0.042435 -0.872004 -0.899245 -0.928689   \n",
       "01/09/2023 -1.986008 -0.022698  0.048752 -0.999133 -0.972530 -0.999136   \n",
       "...              ...       ...       ...       ...       ...       ...   \n",
       "12/22/2023 -0.764902 -0.428985 -0.050038 -0.694023 -0.459540 -0.247694   \n",
       "12/26/2023 -0.825245 -0.509850  0.038833 -0.821152 -0.410684 -0.271177   \n",
       "12/27/2023 -1.271579 -0.451941 -0.008545 -0.973707 -0.679393 -0.506002   \n",
       "12/28/2023 -1.041440 -0.407548 -0.029218 -0.821152 -0.557253 -0.435555   \n",
       "12/29/2023 -0.971791 -0.543306 -0.021146 -0.897430 -0.532825 -0.341624   \n",
       "\n",
       "                 10Y  residual2y  residual5y  residual7y  residual10y  \n",
       "Date                                                                   \n",
       "01/03/2023 -0.394895   -0.044134    0.086440    0.029407    -0.075241  \n",
       "01/04/2023 -0.628561   -0.033430    0.065052    0.023188    -0.057489  \n",
       "01/05/2023 -0.581827   -0.031260    0.063907    0.015048    -0.050154  \n",
       "01/06/2023 -0.955693   -0.014964    0.030153    0.008150    -0.024522  \n",
       "01/09/2023 -1.002426   -0.017673    0.039429    0.001397    -0.024493  \n",
       "...              ...         ...         ...         ...          ...  \n",
       "12/22/2023 -0.137863    0.019589   -0.054876    0.022537     0.014068  \n",
       "12/26/2023 -0.161229   -0.013692    0.027572    0.007493    -0.022456  \n",
       "12/27/2023 -0.394895    0.004007   -0.015945    0.014787    -0.002649  \n",
       "12/28/2023 -0.278062    0.009477   -0.012553   -0.019268     0.023192  \n",
       "12/29/2023 -0.184596    0.007833   -0.018769    0.002167     0.009343  \n",
       "\n",
       "[250 rows x 11 columns]"
      ]
     },
     "execution_count": 45,
     "metadata": {},
     "output_type": "execute_result"
    }
   ],
   "source": [
    "scores_df"
   ]
  },
  {
   "cell_type": "code",
   "execution_count": 46,
   "id": "5818eb59",
   "metadata": {},
   "outputs": [
    {
     "data": {
      "text/plain": [
       "array([-0.0441337 ,  0.08643965,  0.02940734, -0.07524128])"
      ]
     },
     "execution_count": 46,
     "metadata": {},
     "output_type": "execute_result"
    }
   ],
   "source": [
    "scores_df.loc[\"01/03/2023\",\"residual2y\":].values"
   ]
  },
  {
   "cell_type": "code",
   "execution_count": 47,
   "id": "75de2b02",
   "metadata": {},
   "outputs": [
    {
     "data": {
      "text/plain": [
       "Text(0.5, 1.0, 'Two factor residuals as of 01/03/2023')"
      ]
     },
     "execution_count": 47,
     "metadata": {},
     "output_type": "execute_result"
    },
    {
     "data": {
      "image/png": "[encoded data removed]",
      "text/plain": [
       "<Figure size 640x480 with 1 Axes>"
      ]
     },
     "metadata": {},
     "output_type": "display_data"
    }
   ],
   "source": [
    "axis = list(treasurydata.columns)\n",
    "axis\n",
    "plt.bar(np.arange(4), scores_df.loc[\"01/03/2023\",\"residual2y\":].values*1000, 0.5)\n",
    "plt.xticks(np.arange(4),['2y','5y','7y','10y']) \n",
    "plt.xlabel(\"Maturity\") \n",
    "plt.ylabel(\"Residuals in np\") \n",
    "plt.title(\"Two factor residuals as of 01/03/2023\") "
   ]
  },
  {
   "cell_type": "code",
   "execution_count": 48,
   "id": "80a546fd",
   "metadata": {},
   "outputs": [
    {
     "data": {
      "text/html": [
       "<div>\n",
       "<style scoped>\n",
       "    .dataframe tbody tr th:only-of-type {\n",
       "        vertical-align: middle;\n",
       "    }\n",
       "\n",
       "    .dataframe tbody tr th {\n",
       "        vertical-align: top;\n",
       "    }\n",
       "\n",
       "    .dataframe thead th {\n",
       "        text-align: right;\n",
       "    }\n",
       "</style>\n",
       "<table border=\"1\" class=\"dataframe\">\n",
       "  <thead>\n",
       "    <tr style=\"text-align: right;\">\n",
       "      <th></th>\n",
       "      <th>2Y</th>\n",
       "      <th>5Y</th>\n",
       "      <th>7Y</th>\n",
       "      <th>10Y</th>\n",
       "    </tr>\n",
       "    <tr>\n",
       "      <th>Date</th>\n",
       "      <th></th>\n",
       "      <th></th>\n",
       "      <th></th>\n",
       "      <th></th>\n",
       "    </tr>\n",
       "  </thead>\n",
       "  <tbody>\n",
       "    <tr>\n",
       "      <th>01/03/2023</th>\n",
       "      <td>-0.465191</td>\n",
       "      <td>-0.288544</td>\n",
       "      <td>-0.318142</td>\n",
       "      <td>-0.394895</td>\n",
       "    </tr>\n",
       "    <tr>\n",
       "      <th>01/04/2023</th>\n",
       "      <td>-0.566894</td>\n",
       "      <td>-0.508397</td>\n",
       "      <td>-0.552967</td>\n",
       "      <td>-0.628561</td>\n",
       "    </tr>\n",
       "    <tr>\n",
       "      <th>01/05/2023</th>\n",
       "      <td>-0.338062</td>\n",
       "      <td>-0.386256</td>\n",
       "      <td>-0.482520</td>\n",
       "      <td>-0.581827</td>\n",
       "    </tr>\n",
       "    <tr>\n",
       "      <th>01/06/2023</th>\n",
       "      <td>-0.872004</td>\n",
       "      <td>-0.899245</td>\n",
       "      <td>-0.928689</td>\n",
       "      <td>-0.955693</td>\n",
       "    </tr>\n",
       "    <tr>\n",
       "      <th>01/09/2023</th>\n",
       "      <td>-0.999133</td>\n",
       "      <td>-0.972530</td>\n",
       "      <td>-0.999136</td>\n",
       "      <td>-1.002426</td>\n",
       "    </tr>\n",
       "    <tr>\n",
       "      <th>...</th>\n",
       "      <td>...</td>\n",
       "      <td>...</td>\n",
       "      <td>...</td>\n",
       "      <td>...</td>\n",
       "    </tr>\n",
       "    <tr>\n",
       "      <th>12/22/2023</th>\n",
       "      <td>-0.694023</td>\n",
       "      <td>-0.459540</td>\n",
       "      <td>-0.247694</td>\n",
       "      <td>-0.137863</td>\n",
       "    </tr>\n",
       "    <tr>\n",
       "      <th>12/26/2023</th>\n",
       "      <td>-0.821152</td>\n",
       "      <td>-0.410684</td>\n",
       "      <td>-0.271177</td>\n",
       "      <td>-0.161229</td>\n",
       "    </tr>\n",
       "    <tr>\n",
       "      <th>12/27/2023</th>\n",
       "      <td>-0.973707</td>\n",
       "      <td>-0.679393</td>\n",
       "      <td>-0.506002</td>\n",
       "      <td>-0.394895</td>\n",
       "    </tr>\n",
       "    <tr>\n",
       "      <th>12/28/2023</th>\n",
       "      <td>-0.821152</td>\n",
       "      <td>-0.557253</td>\n",
       "      <td>-0.435555</td>\n",
       "      <td>-0.278062</td>\n",
       "    </tr>\n",
       "    <tr>\n",
       "      <th>12/29/2023</th>\n",
       "      <td>-0.897430</td>\n",
       "      <td>-0.532825</td>\n",
       "      <td>-0.341624</td>\n",
       "      <td>-0.184596</td>\n",
       "    </tr>\n",
       "  </tbody>\n",
       "</table>\n",
       "<p>250 rows × 4 columns</p>\n",
       "</div>"
      ],
      "text/plain": [
       "                  2Y        5Y        7Y       10Y\n",
       "Date                                              \n",
       "01/03/2023 -0.465191 -0.288544 -0.318142 -0.394895\n",
       "01/04/2023 -0.566894 -0.508397 -0.552967 -0.628561\n",
       "01/05/2023 -0.338062 -0.386256 -0.482520 -0.581827\n",
       "01/06/2023 -0.872004 -0.899245 -0.928689 -0.955693\n",
       "01/09/2023 -0.999133 -0.972530 -0.999136 -1.002426\n",
       "...              ...       ...       ...       ...\n",
       "12/22/2023 -0.694023 -0.459540 -0.247694 -0.137863\n",
       "12/26/2023 -0.821152 -0.410684 -0.271177 -0.161229\n",
       "12/27/2023 -0.973707 -0.679393 -0.506002 -0.394895\n",
       "12/28/2023 -0.821152 -0.557253 -0.435555 -0.278062\n",
       "12/29/2023 -0.897430 -0.532825 -0.341624 -0.184596\n",
       "\n",
       "[250 rows x 4 columns]"
      ]
     },
     "execution_count": 48,
     "metadata": {},
     "output_type": "execute_result"
    }
   ],
   "source": [
    "pca_data_scaled_df"
   ]
  },
  {
   "cell_type": "code",
   "execution_count": 49,
   "id": "74bafce8",
   "metadata": {},
   "outputs": [
    {
     "data": {
      "text/plain": [
       "4.58296"
      ]
     },
     "execution_count": 49,
     "metadata": {},
     "output_type": "execute_result"
    }
   ],
   "source": [
    "treasurydata[\"2Y\"].mean()"
   ]
  },
  {
   "cell_type": "code",
   "execution_count": 50,
   "id": "d6773fd4",
   "metadata": {},
   "outputs": [
    {
     "data": {
      "text/plain": [
       "-0.464259526146381"
      ]
     },
     "execution_count": 50,
     "metadata": {},
     "output_type": "execute_result"
    }
   ],
   "source": [
    "(4.40 - treasurydata[\"2Y\"].mean())/treasurydata[\"2Y\"].std()"
   ]
  },
  {
   "cell_type": "code",
   "execution_count": 51,
   "id": "fb8e4ba6",
   "metadata": {},
   "outputs": [
    {
     "data": {
      "text/plain": [
       "[33, 44, 55]"
      ]
     },
     "execution_count": 51,
     "metadata": {},
     "output_type": "execute_result"
    }
   ],
   "source": [
    "x = [11,22,33,44,55]\n",
    "x[-3:]"
   ]
  },
  {
   "cell_type": "code",
   "execution_count": 52,
   "id": "55679247",
   "metadata": {},
   "outputs": [
    {
     "data": {
      "text/plain": [
       "2"
      ]
     },
     "execution_count": 52,
     "metadata": {},
     "output_type": "execute_result"
    }
   ],
   "source": [
    "x.index(33)"
   ]
  },
  {
   "cell_type": "code",
   "execution_count": 53,
   "id": "9855a814",
   "metadata": {},
   "outputs": [],
   "source": [
    "a = [y for y in x if y > 33]"
   ]
  },
  {
   "cell_type": "code",
   "execution_count": 54,
   "id": "73357514",
   "metadata": {},
   "outputs": [
    {
     "data": {
      "text/plain": [
       "[44, 55]"
      ]
     },
     "execution_count": 54,
     "metadata": {},
     "output_type": "execute_result"
    }
   ],
   "source": [
    "a"
   ]
  },
  {
   "cell_type": "code",
   "execution_count": 55,
   "id": "18911fc9",
   "metadata": {},
   "outputs": [
    {
     "data": {
      "text/plain": [
       "[22, 33, 44, 55]"
      ]
     },
     "execution_count": 55,
     "metadata": {},
     "output_type": "execute_result"
    }
   ],
   "source": [
    "x[1:]"
   ]
  },
  {
   "cell_type": "code",
   "execution_count": 56,
   "id": "3105b477",
   "metadata": {},
   "outputs": [
    {
     "data": {
      "text/plain": [
       "55"
      ]
     },
     "execution_count": 56,
     "metadata": {},
     "output_type": "execute_result"
    }
   ],
   "source": [
    "x.pop()"
   ]
  },
  {
   "cell_type": "code",
   "execution_count": 57,
   "id": "02b9aa47",
   "metadata": {},
   "outputs": [],
   "source": [
    "j = pd.DataFrame(np.array([[1,0.513,0.346],[0,0.487,0.329],[0,0,0.325]]))"
   ]
  },
  {
   "cell_type": "code",
   "execution_count": 58,
   "id": "836d96bb",
   "metadata": {},
   "outputs": [
    {
     "data": {
      "text/html": [
       "<div>\n",
       "<style scoped>\n",
       "    .dataframe tbody tr th:only-of-type {\n",
       "        vertical-align: middle;\n",
       "    }\n",
       "\n",
       "    .dataframe tbody tr th {\n",
       "        vertical-align: top;\n",
       "    }\n",
       "\n",
       "    .dataframe thead th {\n",
       "        text-align: right;\n",
       "    }\n",
       "</style>\n",
       "<table border=\"1\" class=\"dataframe\">\n",
       "  <thead>\n",
       "    <tr style=\"text-align: right;\">\n",
       "      <th></th>\n",
       "      <th>1y</th>\n",
       "      <th>2y</th>\n",
       "      <th>3y</th>\n",
       "    </tr>\n",
       "  </thead>\n",
       "  <tbody>\n",
       "    <tr>\n",
       "      <th>0y1y</th>\n",
       "      <td>1.0</td>\n",
       "      <td>0.513</td>\n",
       "      <td>0.346</td>\n",
       "    </tr>\n",
       "    <tr>\n",
       "      <th>1y1y</th>\n",
       "      <td>0.0</td>\n",
       "      <td>0.487</td>\n",
       "      <td>0.329</td>\n",
       "    </tr>\n",
       "    <tr>\n",
       "      <th>2y1y</th>\n",
       "      <td>0.0</td>\n",
       "      <td>0.000</td>\n",
       "      <td>0.325</td>\n",
       "    </tr>\n",
       "  </tbody>\n",
       "</table>\n",
       "</div>"
      ],
      "text/plain": [
       "       1y     2y     3y\n",
       "0y1y  1.0  0.513  0.346\n",
       "1y1y  0.0  0.487  0.329\n",
       "2y1y  0.0  0.000  0.325"
      ]
     },
     "execution_count": 58,
     "metadata": {},
     "output_type": "execute_result"
    }
   ],
   "source": [
    "j.columns = [\"1y\",\"2y\",\"3y\"]\n",
    "j.index= [\"0y1y\",\"1y1y\",\"2y1y\"]\n",
    "j"
   ]
  },
  {
   "cell_type": "code",
   "execution_count": 59,
   "id": "4da1c12d",
   "metadata": {},
   "outputs": [
    {
     "data": {
      "text/plain": [
       "'1y'"
      ]
     },
     "execution_count": 59,
     "metadata": {},
     "output_type": "execute_result"
    }
   ],
   "source": [
    "j.values\n",
    "j.columns[0]"
   ]
  },
  {
   "cell_type": "code",
   "execution_count": 60,
   "id": "402efcb0",
   "metadata": {},
   "outputs": [],
   "source": [
    "Sa = pd.Series([-820,-1100,4000])\n",
    "Sa.values\n",
    "pd.options.display.float_format = '{:.2f}'.format\n",
    "np.set_printoptions(suppress=True)"
   ]
  },
  {
   "cell_type": "code",
   "execution_count": 61,
   "id": "a8df16ed",
   "metadata": {},
   "outputs": [
    {
     "data": {
      "text/plain": [
       "pandas.core.frame.DataFrame"
      ]
     },
     "execution_count": 61,
     "metadata": {},
     "output_type": "execute_result"
    }
   ],
   "source": [
    "Sb = pd.DataFrame(np.matmul(j.values, Sa.values).astype(int), index= j.index , columns=[j.columns[0]])\n",
    "type(Sb)"
   ]
  },
  {
   "cell_type": "code",
   "execution_count": 62,
   "id": "9bb2ea21",
   "metadata": {},
   "outputs": [
    {
     "data": {
      "text/html": [
       "<div>\n",
       "<style scoped>\n",
       "    .dataframe tbody tr th:only-of-type {\n",
       "        vertical-align: middle;\n",
       "    }\n",
       "\n",
       "    .dataframe tbody tr th {\n",
       "        vertical-align: top;\n",
       "    }\n",
       "\n",
       "    .dataframe thead th {\n",
       "        text-align: right;\n",
       "    }\n",
       "</style>\n",
       "<table border=\"1\" class=\"dataframe\">\n",
       "  <thead>\n",
       "    <tr style=\"text-align: right;\">\n",
       "      <th></th>\n",
       "      <th>1y</th>\n",
       "    </tr>\n",
       "  </thead>\n",
       "  <tbody>\n",
       "    <tr>\n",
       "      <th>0y1y</th>\n",
       "      <td>0</td>\n",
       "    </tr>\n",
       "    <tr>\n",
       "      <th>1y1y</th>\n",
       "      <td>780</td>\n",
       "    </tr>\n",
       "    <tr>\n",
       "      <th>2y1y</th>\n",
       "      <td>1300</td>\n",
       "    </tr>\n",
       "  </tbody>\n",
       "</table>\n",
       "</div>"
      ],
      "text/plain": [
       "        1y\n",
       "0y1y     0\n",
       "1y1y   780\n",
       "2y1y  1300"
      ]
     },
     "execution_count": 62,
     "metadata": {},
     "output_type": "execute_result"
    }
   ],
   "source": [
    "Sb"
   ]
  },
  {
   "cell_type": "code",
   "execution_count": null,
   "id": "a762ac99",
   "metadata": {},
   "outputs": [],
   "source": []
  }
 ],
 "metadata": {
  "kernelspec": {
   "display_name": "Python 3 (ipykernel)",
   "language": "python",
   "name": "python3"
  },
  "language_info": {
   "codemirror_mode": {
    "name": "ipython",
    "version": 3
   },
   "file_extension": ".py",
   "mimetype": "text/x-python",
   "name": "python",
   "nbconvert_exporter": "python",
   "pygments_lexer": "ipython3",
   "version": "3.11.9"
  }
 },
 "nbformat": 4,
 "nbformat_minor": 5
}
