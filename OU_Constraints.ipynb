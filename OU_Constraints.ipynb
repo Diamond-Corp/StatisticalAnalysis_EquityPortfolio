{
 "cells": [
  {
   "cell_type": "code",
   "execution_count": null,
   "metadata": {},
   "outputs": [],
   "source": [
    "import numpy as np\n",
    "from scipy.optimize import minimize\n",
    "from scipy.stats import norm\n",
    "\n",
    "def ou_log_likelihood(params, S, delta_t):\n",
    "    # Unpack parameters\n",
    "    mu, lambda_, sigma = params\n",
    "\n",
    "    if lambda_ <= 0 or sigma <= 0:\n",
    "        return np.inf  # enforce constraint: lambda, sigma > 0\n",
    "\n",
    "    n = len(S) - 1\n",
    "    S_t = S[:-1]\n",
    "    S_tp1 = S[1:]\n",
    "\n",
    "    # Compute mean and variance of transition\n",
    "    exp_term = np.exp(-lambda_ * delta_t)\n",
    "    mean = mu + (S_t - mu) * exp_term\n",
    "    var = (sigma ** 2) / (2 * lambda_) * (1 - exp_term ** 2)\n",
    "\n",
    "    # Log-likelihood\n",
    "    ll = norm.logpdf(S_tp1, loc=mean, scale=np.sqrt(var))\n",
    "    return -np.sum(ll)  # negative log-likelihood for minimization\n",
    "\n",
    "# Example usage\n",
    "# Simulated or observed OU series (replace with your own)\n",
    "np.random.seed(42)\n",
    "S = np.cumsum(np.random.randn(100))  # replace with real OU data\n",
    "delta_t = 1.0\n",
    "\n",
    "# Initial guesses: [mu, lambda, sigma]\n",
    "init_params = [np.mean(S), 0.1, np.std(S)]\n",
    "\n",
    "# Constraints: lambda > 0, sigma > 0\n",
    "bounds = [(-np.inf, np.inf), (1e-5, np.inf), (1e-5, np.inf)]\n",
    "\n",
    "result = minimize(ou_log_likelihood, init_params, args=(S, delta_t), bounds=bounds)\n",
    "\n",
    "if result.success:\n",
    "    mu_hat, lambda_hat, sigma_hat = result.x\n",
    "    print(f\"Estimated mu: {mu_hat:.4f}\")\n",
    "    print(f\"Estimated lambda: {lambda_hat:.4f}\")\n",
    "    print(f\"Estimated sigma: {sigma_hat:.4f}\")\n",
    "else:\n",
    "    print(\"Optimization failed.\")"
   ]
  }
 ],
 "metadata": {
  "language_info": {
   "name": "python"
  }
 },
 "nbformat": 4,
 "nbformat_minor": 2
}
